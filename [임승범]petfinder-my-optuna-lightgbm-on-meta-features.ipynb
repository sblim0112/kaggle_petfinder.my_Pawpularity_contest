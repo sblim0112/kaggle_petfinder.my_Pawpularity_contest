{
 "cells": [
  {
   "cell_type": "markdown",
   "metadata": {},
   "source": [
    "<br>\n",
    "\n",
    "* [참고커널: PetFinder.my - Optuna + LightGBM on Meta Features](https://www.kaggle.com/kaushal2896/petfinder-my-optuna-lightgbm-on-meta-features#Regression-using-Light-GBM)\n",
    "\n",
    "\n",
    "* [추가학습: META-Features-XGBoost-LightGBM-CatBoost-OPTUNA](https://www.kaggle.com/oguzhansahin/meta-features-xgboost-lightgbm-catboost-optuna/notebook)\n",
    "\n",
    "<br>"
   ]
  },
  {
   "cell_type": "markdown",
   "metadata": {},
   "source": [
    "<br>\n",
    "\n",
    "## 주요 포인트\n",
    "\n",
    "* **연속형 타겟변수의 분포가 bimodal 및 multimodal 경우의 데이터 분할 방법**\n",
    "\n",
    "\n",
    "* **functools 사용하여 파생함수 연동 가능**\n",
    "\n",
    "\n",
    "* **np.vstack, np.hstack 및 reshape를 이용한 데이터 재배열 연습**\n",
    "\n",
    "\n",
    "* **optuna 이용, 하이퍼 파라미터 튜닝**\n",
    "\n",
    "<br>"
   ]
  },
  {
   "cell_type": "code",
   "execution_count": 1,
   "metadata": {
    "_cell_guid": "b1076dfc-b9ad-4769-8c92-a6c4dae69d19",
    "_uuid": "8f2839f25d086af736a60e9eeb907d3b93b6e0e5",
    "execution": {
     "iopub.execute_input": "2021-09-28T10:15:13.573661Z",
     "iopub.status.busy": "2021-09-28T10:15:13.572836Z",
     "iopub.status.idle": "2021-09-28T10:15:16.365639Z",
     "shell.execute_reply": "2021-09-28T10:15:16.364882Z",
     "shell.execute_reply.started": "2021-09-28T09:57:31.197325Z"
    },
    "papermill": {
     "duration": 2.823979,
     "end_time": "2021-09-28T10:15:16.365835",
     "exception": false,
     "start_time": "2021-09-28T10:15:13.541856",
     "status": "completed"
    },
    "tags": []
   },
   "outputs": [
    {
     "name": "stdout",
     "output_type": "stream",
     "text": [
      "Let's start!\n"
     ]
    }
   ],
   "source": [
    "from functools import partial\n",
    "\n",
    "import numpy as np\n",
    "import pandas as pd\n",
    "\n",
    "import lightgbm as lgb\n",
    "\n",
    "from sklearn.model_selection import StratifiedKFold, KFold\n",
    "from sklearn.metrics import mean_squared_error\n",
    "\n",
    "from matplotlib import pyplot as plt\n",
    "import seaborn as sns\n",
    "\n",
    "import warnings\n",
    "\n",
    "import optuna\n",
    "from tqdm import tqdm\n",
    "\n",
    "plt.rcParams['font.family'] = 'Malgun Gothic'\n",
    "plt.rcParams['axes.unicode_minus'] = False\n",
    "plt.style.use('seaborn') \n",
    "sns.set(font_scale=1)  \n",
    "pd.set_option('display.max_columns', None)\n",
    "warnings.filterwarnings('ignore')\n",
    "\n",
    "print(\"Let's start!\")"
   ]
  },
  {
   "cell_type": "code",
   "execution_count": 2,
   "metadata": {
    "execution": {
     "iopub.execute_input": "2021-09-28T10:15:16.405206Z",
     "iopub.status.busy": "2021-09-28T10:15:16.404362Z",
     "iopub.status.idle": "2021-09-28T10:15:16.457570Z",
     "shell.execute_reply": "2021-09-28T10:15:16.458195Z",
     "shell.execute_reply.started": "2021-09-28T09:57:32.081978Z"
    },
    "papermill": {
     "duration": 0.074841,
     "end_time": "2021-09-28T10:15:16.458373",
     "exception": false,
     "start_time": "2021-09-28T10:15:16.383532",
     "status": "completed"
    },
    "tags": []
   },
   "outputs": [
    {
     "data": {
      "text/plain": [
       "(9912, 14)"
      ]
     },
     "metadata": {},
     "output_type": "display_data"
    },
    {
     "data": {
      "text/html": [
       "<div>\n",
       "<style scoped>\n",
       "    .dataframe tbody tr th:only-of-type {\n",
       "        vertical-align: middle;\n",
       "    }\n",
       "\n",
       "    .dataframe tbody tr th {\n",
       "        vertical-align: top;\n",
       "    }\n",
       "\n",
       "    .dataframe thead th {\n",
       "        text-align: right;\n",
       "    }\n",
       "</style>\n",
       "<table border=\"1\" class=\"dataframe\">\n",
       "  <thead>\n",
       "    <tr style=\"text-align: right;\">\n",
       "      <th></th>\n",
       "      <th>Id</th>\n",
       "      <th>Subject Focus</th>\n",
       "      <th>Eyes</th>\n",
       "      <th>Face</th>\n",
       "      <th>Near</th>\n",
       "      <th>Action</th>\n",
       "      <th>Accessory</th>\n",
       "      <th>Group</th>\n",
       "      <th>Collage</th>\n",
       "      <th>Human</th>\n",
       "      <th>Occlusion</th>\n",
       "      <th>Info</th>\n",
       "      <th>Blur</th>\n",
       "      <th>Pawpularity</th>\n",
       "    </tr>\n",
       "  </thead>\n",
       "  <tbody>\n",
       "    <tr>\n",
       "      <th>0</th>\n",
       "      <td>0007de18844b0dbbb5e1f607da0606e0</td>\n",
       "      <td>0</td>\n",
       "      <td>1</td>\n",
       "      <td>1</td>\n",
       "      <td>1</td>\n",
       "      <td>0</td>\n",
       "      <td>0</td>\n",
       "      <td>1</td>\n",
       "      <td>0</td>\n",
       "      <td>0</td>\n",
       "      <td>0</td>\n",
       "      <td>0</td>\n",
       "      <td>0</td>\n",
       "      <td>63</td>\n",
       "    </tr>\n",
       "    <tr>\n",
       "      <th>1</th>\n",
       "      <td>0009c66b9439883ba2750fb825e1d7db</td>\n",
       "      <td>0</td>\n",
       "      <td>1</td>\n",
       "      <td>1</td>\n",
       "      <td>0</td>\n",
       "      <td>0</td>\n",
       "      <td>0</td>\n",
       "      <td>0</td>\n",
       "      <td>0</td>\n",
       "      <td>0</td>\n",
       "      <td>0</td>\n",
       "      <td>0</td>\n",
       "      <td>0</td>\n",
       "      <td>42</td>\n",
       "    </tr>\n",
       "    <tr>\n",
       "      <th>2</th>\n",
       "      <td>0013fd999caf9a3efe1352ca1b0d937e</td>\n",
       "      <td>0</td>\n",
       "      <td>1</td>\n",
       "      <td>1</td>\n",
       "      <td>1</td>\n",
       "      <td>0</td>\n",
       "      <td>0</td>\n",
       "      <td>0</td>\n",
       "      <td>0</td>\n",
       "      <td>1</td>\n",
       "      <td>1</td>\n",
       "      <td>0</td>\n",
       "      <td>0</td>\n",
       "      <td>28</td>\n",
       "    </tr>\n",
       "    <tr>\n",
       "      <th>3</th>\n",
       "      <td>0018df346ac9c1d8413cfcc888ca8246</td>\n",
       "      <td>0</td>\n",
       "      <td>1</td>\n",
       "      <td>1</td>\n",
       "      <td>1</td>\n",
       "      <td>0</td>\n",
       "      <td>0</td>\n",
       "      <td>0</td>\n",
       "      <td>0</td>\n",
       "      <td>0</td>\n",
       "      <td>0</td>\n",
       "      <td>0</td>\n",
       "      <td>0</td>\n",
       "      <td>15</td>\n",
       "    </tr>\n",
       "    <tr>\n",
       "      <th>4</th>\n",
       "      <td>001dc955e10590d3ca4673f034feeef2</td>\n",
       "      <td>0</td>\n",
       "      <td>0</td>\n",
       "      <td>0</td>\n",
       "      <td>1</td>\n",
       "      <td>0</td>\n",
       "      <td>0</td>\n",
       "      <td>1</td>\n",
       "      <td>0</td>\n",
       "      <td>0</td>\n",
       "      <td>0</td>\n",
       "      <td>0</td>\n",
       "      <td>0</td>\n",
       "      <td>72</td>\n",
       "    </tr>\n",
       "  </tbody>\n",
       "</table>\n",
       "</div>"
      ],
      "text/plain": [
       "                                 Id  Subject Focus  Eyes  Face  Near  Action  \\\n",
       "0  0007de18844b0dbbb5e1f607da0606e0              0     1     1     1       0   \n",
       "1  0009c66b9439883ba2750fb825e1d7db              0     1     1     0       0   \n",
       "2  0013fd999caf9a3efe1352ca1b0d937e              0     1     1     1       0   \n",
       "3  0018df346ac9c1d8413cfcc888ca8246              0     1     1     1       0   \n",
       "4  001dc955e10590d3ca4673f034feeef2              0     0     0     1       0   \n",
       "\n",
       "   Accessory  Group  Collage  Human  Occlusion  Info  Blur  Pawpularity  \n",
       "0          0      1        0      0          0     0     0           63  \n",
       "1          0      0        0      0          0     0     0           42  \n",
       "2          0      0        0      1          1     0     0           28  \n",
       "3          0      0        0      0          0     0     0           15  \n",
       "4          0      1        0      0          0     0     0           72  "
      ]
     },
     "metadata": {},
     "output_type": "display_data"
    }
   ],
   "source": [
    "trn = pd.read_csv(\"./petfinder-pawpularity-score/train.csv\")\n",
    "\n",
    "display(trn.shape, trn.head())"
   ]
  },
  {
   "cell_type": "markdown",
   "metadata": {},
   "source": [
    "<br>\n",
    "\n",
    "## Target distribution\n",
    "\n",
    "<br>"
   ]
  },
  {
   "cell_type": "markdown",
   "metadata": {},
   "source": [
    "본 커널은 OOF(Out Of Folds)방식을 이용하여 모델 구축 및 예측을 수행한 것이 특징이다.\n",
    "\n",
    "\n",
    "[OOF 참고-1](https://techblog-history-younghunjo1.tistory.com/142)\n",
    "\n",
    "\n",
    "[OOF 참고-2](https://ekdud7667.tistory.com/entry/Ensemble-%EA%B0%9C%EC%9A%94Bagging-Boosting-Stacking)\n",
    "\n",
    "\n",
    "따라서 각 Folds들의 분포가 서로 비슷해야 일관성 있는 base 모델들을 만들어 낼 수 있다.\n",
    "\n",
    "우선, 커널 작성자는 타겟변수인 Pawpularity가 아래와 같이 bimodal분포를 나타낸다 라고 판단하고 있다.\n",
    "\n",
    "이 경우 단순히 kfold로 수행하게 되면 개별 fold 간의 분포가 차이가 생기는 문제가 발생할 수 있다.\n",
    "\n",
    "<br>"
   ]
  },
  {
   "cell_type": "code",
   "execution_count": 3,
   "metadata": {},
   "outputs": [
    {
     "data": {
      "image/png": "[encoded data removed]",
      "text/plain": [
       "<Figure size 864x360 with 1 Axes>"
      ]
     },
     "metadata": {},
     "output_type": "display_data"
    }
   ],
   "source": [
    "# histogram for Pawpularity score\n",
    "\n",
    "plt.figure(figsize=(12,5))\n",
    "sns.histplot(data = trn, x = 'Pawpularity',kde = True, stat = 'density', bins = 100)\n",
    "plt.axvline(trn['Pawpularity'].mean(),c = 'red', ls = '--', lw = 3)\n",
    "plt.title('Pawpularity score Histogram', fontsize = 12, fontweight = 'bold')\n",
    "plt.show()"
   ]
  },
  {
   "cell_type": "markdown",
   "metadata": {
    "papermill": {
     "duration": 0.016886,
     "end_time": "2021-09-28T10:15:16.492184",
     "exception": false,
     "start_time": "2021-09-28T10:15:16.475298",
     "status": "completed"
    },
    "tags": []
   },
   "source": [
    "<br><br>\n",
    "\n",
    "## Stratified split from the continuous target variable"
   ]
  },
  {
   "cell_type": "markdown",
   "metadata": {},
   "source": [
    "* **타겟변수가 연속형 변수일 때의 계층적 데이터 추출 및 분할**\n",
    "    * 타겟변수의 값에 따라 여러 층으로 데이터를 분할 후 각 층별로 랜덤데이터를 추출하여 원래 데이터의 분포와 유사하게 추출\n",
    "    * 원래 classification 문제에서 train_test_split 시 stratify 옵션을 이용하여 수행\n",
    "    * 연속형 타겟변수의 분포가 불균형한 bimodal, 또는 multimodal 분포라면 단순 분할 시 추출이 불균형하게 이루어질 수 있다.\n",
    "    \n",
    "    \n",
    "* **방법**\n",
    "    * pd.cut을 통해 binning\n",
    "    * 이 bin들을 각 층으로 인식하고, 각 층에서 거의 동일한 비율로 랜덤데이터를 추출하게 함.\n",
    "    \n",
    "**[아이디어 참고 커널](https://www.kaggle.com/tolgadincer/continuous-target-stratification)**\n",
    "\n",
    "<br>"
   ]
  },
  {
   "cell_type": "code",
   "execution_count": 4,
   "metadata": {
    "execution": {
     "iopub.execute_input": "2021-09-28T10:15:16.536849Z",
     "iopub.status.busy": "2021-09-28T10:15:16.536144Z",
     "iopub.status.idle": "2021-09-28T10:15:16.569654Z",
     "shell.execute_reply": "2021-09-28T10:15:16.569107Z",
     "shell.execute_reply.started": "2021-09-28T09:57:32.632125Z"
    },
    "papermill": {
     "duration": 0.06055,
     "end_time": "2021-09-28T10:15:16.569800",
     "exception": false,
     "start_time": "2021-09-28T10:15:16.509250",
     "status": "completed"
    },
    "scrolled": true,
    "tags": []
   },
   "outputs": [
    {
     "name": "stdout",
     "output_type": "stream",
     "text": [
      "교차검증: 0\n",
      "학습 레이블 데이터 분포: \n",
      " 2    0.280363\n",
      "3    0.236095\n",
      "4    0.137596\n",
      "1    0.102031\n",
      "5    0.073149\n",
      "6    0.044520\n",
      "0    0.040863\n",
      "9    0.039223\n",
      "7    0.028755\n",
      "8    0.017404\n",
      "Name: groups, dtype: float64\n",
      "검증 레이블 데이터 분포: \n",
      " 2    0.280383\n",
      "3    0.236006\n",
      "4    0.137166\n",
      "1    0.102370\n",
      "5    0.073122\n",
      "6    0.044881\n",
      "0    0.040847\n",
      "9    0.038830\n",
      "7    0.028744\n",
      "8    0.017650\n",
      "Name: groups, dtype: float64\n",
      "\n",
      "\n",
      "교차검증: 1\n",
      "학습 레이블 데이터 분포: \n",
      " 2    0.280363\n",
      "3    0.236095\n",
      "4    0.137596\n",
      "1    0.102157\n",
      "5    0.073149\n",
      "6    0.044520\n",
      "0    0.040863\n",
      "9    0.039097\n",
      "7    0.028755\n",
      "8    0.017404\n",
      "Name: groups, dtype: float64\n",
      "검증 레이블 데이터 분포: \n",
      " 2    0.280383\n",
      "3    0.236006\n",
      "4    0.137166\n",
      "1    0.101866\n",
      "5    0.073122\n",
      "6    0.044881\n",
      "0    0.040847\n",
      "9    0.039334\n",
      "7    0.028744\n",
      "8    0.017650\n",
      "Name: groups, dtype: float64\n",
      "\n",
      "\n",
      "교차검증: 2\n",
      "학습 레이블 데이터 분포: \n",
      " 2    0.280328\n",
      "3    0.236066\n",
      "4    0.137453\n",
      "1    0.102144\n",
      "5    0.073140\n",
      "6    0.044641\n",
      "0    0.040858\n",
      "9    0.039092\n",
      "7    0.028752\n",
      "8    0.017528\n",
      "Name: groups, dtype: float64\n",
      "검증 레이블 데이터 분포: \n",
      " 2    0.280525\n",
      "3    0.236125\n",
      "4    0.137740\n",
      "1    0.101917\n",
      "5    0.073158\n",
      "6    0.044400\n",
      "0    0.040868\n",
      "9    0.039354\n",
      "7    0.028759\n",
      "8    0.017154\n",
      "Name: groups, dtype: float64\n",
      "\n",
      "\n",
      "교차검증: 3\n",
      "학습 레이블 데이터 분포: \n",
      " 2    0.280328\n",
      "3    0.236066\n",
      "4    0.137453\n",
      "1    0.102144\n",
      "5    0.073140\n",
      "6    0.044641\n",
      "0    0.040858\n",
      "9    0.039092\n",
      "7    0.028752\n",
      "8    0.017528\n",
      "Name: groups, dtype: float64\n",
      "검증 레이블 데이터 분포: \n",
      " 2    0.280525\n",
      "3    0.236125\n",
      "4    0.137740\n",
      "1    0.101917\n",
      "5    0.073158\n",
      "6    0.044400\n",
      "0    0.040868\n",
      "9    0.039354\n",
      "7    0.028759\n",
      "8    0.017154\n",
      "Name: groups, dtype: float64\n",
      "\n",
      "\n",
      "교차검증: 4\n",
      "학습 레이블 데이터 분포: \n",
      " 2    0.280454\n",
      "3    0.236066\n",
      "4    0.137453\n",
      "1    0.102018\n",
      "5    0.073140\n",
      "6    0.044641\n",
      "0    0.040858\n",
      "9    0.039218\n",
      "7    0.028752\n",
      "8    0.017402\n",
      "Name: groups, dtype: float64\n",
      "검증 레이블 데이터 분포: \n",
      " 2    0.280020\n",
      "3    0.236125\n",
      "4    0.137740\n",
      "1    0.102422\n",
      "5    0.073158\n",
      "6    0.044400\n",
      "0    0.040868\n",
      "9    0.038850\n",
      "7    0.028759\n",
      "8    0.017659\n",
      "Name: groups, dtype: float64\n",
      "\n",
      "\n"
     ]
    },
    {
     "data": {
      "text/html": [
       "<div>\n",
       "<style scoped>\n",
       "    .dataframe tbody tr th:only-of-type {\n",
       "        vertical-align: middle;\n",
       "    }\n",
       "\n",
       "    .dataframe tbody tr th {\n",
       "        vertical-align: top;\n",
       "    }\n",
       "\n",
       "    .dataframe thead th {\n",
       "        text-align: right;\n",
       "    }\n",
       "</style>\n",
       "<table border=\"1\" class=\"dataframe\">\n",
       "  <thead>\n",
       "    <tr style=\"text-align: right;\">\n",
       "      <th></th>\n",
       "      <th>Id</th>\n",
       "      <th>Subject Focus</th>\n",
       "      <th>Eyes</th>\n",
       "      <th>Face</th>\n",
       "      <th>Near</th>\n",
       "      <th>Action</th>\n",
       "      <th>Accessory</th>\n",
       "      <th>Group</th>\n",
       "      <th>Collage</th>\n",
       "      <th>Human</th>\n",
       "      <th>Occlusion</th>\n",
       "      <th>Info</th>\n",
       "      <th>Blur</th>\n",
       "      <th>Pawpularity</th>\n",
       "      <th>kfold</th>\n",
       "    </tr>\n",
       "  </thead>\n",
       "  <tbody>\n",
       "    <tr>\n",
       "      <th>0</th>\n",
       "      <td>0007de18844b0dbbb5e1f607da0606e0</td>\n",
       "      <td>0</td>\n",
       "      <td>1</td>\n",
       "      <td>1</td>\n",
       "      <td>1</td>\n",
       "      <td>0</td>\n",
       "      <td>0</td>\n",
       "      <td>1</td>\n",
       "      <td>0</td>\n",
       "      <td>0</td>\n",
       "      <td>0</td>\n",
       "      <td>0</td>\n",
       "      <td>0</td>\n",
       "      <td>63</td>\n",
       "      <td>0</td>\n",
       "    </tr>\n",
       "    <tr>\n",
       "      <th>1</th>\n",
       "      <td>0009c66b9439883ba2750fb825e1d7db</td>\n",
       "      <td>0</td>\n",
       "      <td>1</td>\n",
       "      <td>1</td>\n",
       "      <td>0</td>\n",
       "      <td>0</td>\n",
       "      <td>0</td>\n",
       "      <td>0</td>\n",
       "      <td>0</td>\n",
       "      <td>0</td>\n",
       "      <td>0</td>\n",
       "      <td>0</td>\n",
       "      <td>0</td>\n",
       "      <td>42</td>\n",
       "      <td>0</td>\n",
       "    </tr>\n",
       "    <tr>\n",
       "      <th>2</th>\n",
       "      <td>0013fd999caf9a3efe1352ca1b0d937e</td>\n",
       "      <td>0</td>\n",
       "      <td>1</td>\n",
       "      <td>1</td>\n",
       "      <td>1</td>\n",
       "      <td>0</td>\n",
       "      <td>0</td>\n",
       "      <td>0</td>\n",
       "      <td>0</td>\n",
       "      <td>1</td>\n",
       "      <td>1</td>\n",
       "      <td>0</td>\n",
       "      <td>0</td>\n",
       "      <td>28</td>\n",
       "      <td>0</td>\n",
       "    </tr>\n",
       "    <tr>\n",
       "      <th>3</th>\n",
       "      <td>0018df346ac9c1d8413cfcc888ca8246</td>\n",
       "      <td>0</td>\n",
       "      <td>1</td>\n",
       "      <td>1</td>\n",
       "      <td>1</td>\n",
       "      <td>0</td>\n",
       "      <td>0</td>\n",
       "      <td>0</td>\n",
       "      <td>0</td>\n",
       "      <td>0</td>\n",
       "      <td>0</td>\n",
       "      <td>0</td>\n",
       "      <td>0</td>\n",
       "      <td>15</td>\n",
       "      <td>0</td>\n",
       "    </tr>\n",
       "    <tr>\n",
       "      <th>4</th>\n",
       "      <td>001dc955e10590d3ca4673f034feeef2</td>\n",
       "      <td>0</td>\n",
       "      <td>0</td>\n",
       "      <td>0</td>\n",
       "      <td>1</td>\n",
       "      <td>0</td>\n",
       "      <td>0</td>\n",
       "      <td>1</td>\n",
       "      <td>0</td>\n",
       "      <td>0</td>\n",
       "      <td>0</td>\n",
       "      <td>0</td>\n",
       "      <td>0</td>\n",
       "      <td>72</td>\n",
       "      <td>0</td>\n",
       "    </tr>\n",
       "  </tbody>\n",
       "</table>\n",
       "</div>"
      ],
      "text/plain": [
       "                                 Id  Subject Focus  Eyes  Face  Near  Action  \\\n",
       "0  0007de18844b0dbbb5e1f607da0606e0              0     1     1     1       0   \n",
       "1  0009c66b9439883ba2750fb825e1d7db              0     1     1     0       0   \n",
       "2  0013fd999caf9a3efe1352ca1b0d937e              0     1     1     1       0   \n",
       "3  0018df346ac9c1d8413cfcc888ca8246              0     1     1     1       0   \n",
       "4  001dc955e10590d3ca4673f034feeef2              0     0     0     1       0   \n",
       "\n",
       "   Accessory  Group  Collage  Human  Occlusion  Info  Blur  Pawpularity  kfold  \n",
       "0          0      1        0      0          0     0     0           63      0  \n",
       "1          0      0        0      0          0     0     0           42      0  \n",
       "2          0      0        0      1          1     0     0           28      0  \n",
       "3          0      0        0      0          0     0     0           15      0  \n",
       "4          0      1        0      0          0     0     0           72      0  "
      ]
     },
     "execution_count": 4,
     "metadata": {},
     "output_type": "execute_result"
    }
   ],
   "source": [
    "trn[\"kfold\"] = -1    # kfold 컬럼을 만들어 아무 숫자나 할당한다.\n",
    "\n",
    "N_FOLDS = 5       # fold의 n은 5로 설정\n",
    "skf = StratifiedKFold(n_splits=N_FOLDS)    # skf 생성\n",
    "\n",
    "trn[\"groups\"] = pd.cut(trn[\"Pawpularity\"], bins=10, labels=False)   # groups 컬럼을 만들어 0 ~ 9까지 10개의 bins가 할당\n",
    "target = trn[\"groups\"]  # bin값이 범주가 되도록 target 으로 만들기. 향후 이를 기준으로 split할 것임.\n",
    "\n",
    "\n",
    "# enumerate을 통해 fold값을 출력하게 되는데, 이 값을 다섯 세트의 val_idx의 \"kfold\"컬럼에 할당한다.\n",
    "# 즉, stratify를 통해 모든 fold의 validation set은 전부 다르다는 점을 이용해서 0부터 4까지를 할당하는 것이다.\n",
    "# 이런 식으로 \"kfold\"컬럼에 전부 값이 할당되고 나면 \"groups\"컬럼은 더 이상 필요없으니 삭제한다.\n",
    "\n",
    "for fold, (trn_idx, val_idx) in enumerate(skf.split(target, target)):\n",
    "    trn.loc[val_idx, 'kfold'] = fold\n",
    "    \n",
    "    label_trn = target.iloc[trn_idx]\n",
    "    label_val = target.iloc[val_idx]\n",
    "    print(f'교차검증: {fold}')\n",
    "    print(f'학습 레이블 데이터 분포: \\n', label_trn.value_counts(normalize = True))\n",
    "    print(f'검증 레이블 데이터 분포: \\n', label_val.value_counts(normalize = True))\n",
    "    print('\\n')\n",
    "    \n",
    "trn.drop([\"groups\"], axis=1, inplace = True)\n",
    "trn.head()"
   ]
  },
  {
   "cell_type": "markdown",
   "metadata": {
    "papermill": {
     "duration": 0.019126,
     "end_time": "2021-09-28T10:15:17.118508",
     "exception": false,
     "start_time": "2021-09-28T10:15:17.099382",
     "status": "completed"
    },
    "tags": []
   },
   "source": [
    "<br><br>\n",
    "\n",
    "## Distribution of each split"
   ]
  },
  {
   "cell_type": "code",
   "execution_count": 5,
   "metadata": {
    "execution": {
     "iopub.execute_input": "2021-09-28T10:15:17.203463Z",
     "iopub.status.busy": "2021-09-28T10:15:17.178421Z",
     "iopub.status.idle": "2021-09-28T10:15:19.406069Z",
     "shell.execute_reply": "2021-09-28T10:15:19.404914Z",
     "shell.execute_reply.started": "2021-09-28T09:57:33.602212Z"
    },
    "papermill": {
     "duration": 2.26975,
     "end_time": "2021-09-28T10:15:19.406238",
     "exception": false,
     "start_time": "2021-09-28T10:15:17.136488",
     "status": "completed"
    },
    "tags": []
   },
   "outputs": [
    {
     "data": {
      "image/png": "[encoded data removed]",
      "text/plain": [
       "<Figure size 1440x360 with 5 Axes>"
      ]
     },
     "metadata": {},
     "output_type": "display_data"
    }
   ],
   "source": [
    "# 진짜 extreme bimodal, multimodal인 경우는 사용해볼만 하다고 생각된다.\n",
    "\n",
    "fig, axs = plt.subplots(1, 5, sharex=True, sharey=True, figsize=(20, 5))\n",
    "\n",
    "for i, ax in enumerate(axs):\n",
    "    ax.hist(trn[trn[\"kfold\"] == i][\"Pawpularity\"], bins=100, density=True, label=f\"Fold-{i}\")\n",
    "    if i == 0:\n",
    "        ax.set_ylabel(\"Frequency\")\n",
    "    if i == 2:\n",
    "        ax.set_xlabel(\"Target\")\n",
    "    ax.legend(frameon = True, handlelength = 0)\n",
    "    \n",
    "plt.tight_layout()\n",
    "plt.show()"
   ]
  },
  {
   "cell_type": "markdown",
   "metadata": {
    "papermill": {
     "duration": 0.018434,
     "end_time": "2021-09-28T10:15:19.443673",
     "exception": false,
     "start_time": "2021-09-28T10:15:19.425239",
     "status": "completed"
    },
    "tags": []
   },
   "source": [
    "<br><br>\n",
    "\n",
    "## Regression using Light GBM"
   ]
  },
  {
   "cell_type": "code",
   "execution_count": 6,
   "metadata": {},
   "outputs": [
    {
     "data": {
      "text/html": [
       "<div>\n",
       "<style scoped>\n",
       "    .dataframe tbody tr th:only-of-type {\n",
       "        vertical-align: middle;\n",
       "    }\n",
       "\n",
       "    .dataframe tbody tr th {\n",
       "        vertical-align: top;\n",
       "    }\n",
       "\n",
       "    .dataframe thead th {\n",
       "        text-align: right;\n",
       "    }\n",
       "</style>\n",
       "<table border=\"1\" class=\"dataframe\">\n",
       "  <thead>\n",
       "    <tr style=\"text-align: right;\">\n",
       "      <th></th>\n",
       "      <th>Id</th>\n",
       "      <th>Subject Focus</th>\n",
       "      <th>Eyes</th>\n",
       "      <th>Face</th>\n",
       "      <th>Near</th>\n",
       "      <th>Action</th>\n",
       "      <th>Accessory</th>\n",
       "      <th>Group</th>\n",
       "      <th>Collage</th>\n",
       "      <th>Human</th>\n",
       "      <th>Occlusion</th>\n",
       "      <th>Info</th>\n",
       "      <th>Blur</th>\n",
       "      <th>Pawpularity</th>\n",
       "      <th>kfold</th>\n",
       "    </tr>\n",
       "  </thead>\n",
       "  <tbody>\n",
       "    <tr>\n",
       "      <th>0</th>\n",
       "      <td>0007de18844b0dbbb5e1f607da0606e0</td>\n",
       "      <td>0</td>\n",
       "      <td>1</td>\n",
       "      <td>1</td>\n",
       "      <td>1</td>\n",
       "      <td>0</td>\n",
       "      <td>0</td>\n",
       "      <td>1</td>\n",
       "      <td>0</td>\n",
       "      <td>0</td>\n",
       "      <td>0</td>\n",
       "      <td>0</td>\n",
       "      <td>0</td>\n",
       "      <td>63</td>\n",
       "      <td>0</td>\n",
       "    </tr>\n",
       "    <tr>\n",
       "      <th>1</th>\n",
       "      <td>0009c66b9439883ba2750fb825e1d7db</td>\n",
       "      <td>0</td>\n",
       "      <td>1</td>\n",
       "      <td>1</td>\n",
       "      <td>0</td>\n",
       "      <td>0</td>\n",
       "      <td>0</td>\n",
       "      <td>0</td>\n",
       "      <td>0</td>\n",
       "      <td>0</td>\n",
       "      <td>0</td>\n",
       "      <td>0</td>\n",
       "      <td>0</td>\n",
       "      <td>42</td>\n",
       "      <td>0</td>\n",
       "    </tr>\n",
       "    <tr>\n",
       "      <th>2</th>\n",
       "      <td>0013fd999caf9a3efe1352ca1b0d937e</td>\n",
       "      <td>0</td>\n",
       "      <td>1</td>\n",
       "      <td>1</td>\n",
       "      <td>1</td>\n",
       "      <td>0</td>\n",
       "      <td>0</td>\n",
       "      <td>0</td>\n",
       "      <td>0</td>\n",
       "      <td>1</td>\n",
       "      <td>1</td>\n",
       "      <td>0</td>\n",
       "      <td>0</td>\n",
       "      <td>28</td>\n",
       "      <td>0</td>\n",
       "    </tr>\n",
       "  </tbody>\n",
       "</table>\n",
       "</div>"
      ],
      "text/plain": [
       "                                 Id  Subject Focus  Eyes  Face  Near  Action  \\\n",
       "0  0007de18844b0dbbb5e1f607da0606e0              0     1     1     1       0   \n",
       "1  0009c66b9439883ba2750fb825e1d7db              0     1     1     0       0   \n",
       "2  0013fd999caf9a3efe1352ca1b0d937e              0     1     1     1       0   \n",
       "\n",
       "   Accessory  Group  Collage  Human  Occlusion  Info  Blur  Pawpularity  kfold  \n",
       "0          0      1        0      0          0     0     0           63      0  \n",
       "1          0      0        0      0          0     0     0           42      0  \n",
       "2          0      0        0      1          1     0     0           28      0  "
      ]
     },
     "execution_count": 6,
     "metadata": {},
     "output_type": "execute_result"
    }
   ],
   "source": [
    "trn.head(3)"
   ]
  },
  {
   "cell_type": "code",
   "execution_count": 7,
   "metadata": {
    "execution": {
     "iopub.execute_input": "2021-09-28T10:15:19.486917Z",
     "iopub.status.busy": "2021-09-28T10:15:19.486241Z",
     "iopub.status.idle": "2021-09-28T10:15:19.490210Z",
     "shell.execute_reply": "2021-09-28T10:15:19.489673Z",
     "shell.execute_reply.started": "2021-09-28T09:57:36.132644Z"
    },
    "papermill": {
     "duration": 0.027853,
     "end_time": "2021-09-28T10:15:19.490356",
     "exception": false,
     "start_time": "2021-09-28T10:15:19.462503",
     "status": "completed"
    },
    "tags": []
   },
   "outputs": [],
   "source": [
    "# feature, target 구분\n",
    "features = trn.columns[1:-2]\n",
    "target = [\"Pawpularity\"]"
   ]
  },
  {
   "cell_type": "markdown",
   "metadata": {},
   "source": [
    "<br>\n",
    "\n",
    "### [잠깐] np.hstack과 np.vstack, 그리고 reshape를 이용한 데이터 재배열 연습"
   ]
  },
  {
   "cell_type": "code",
   "execution_count": 1,
   "metadata": {},
   "outputs": [
    {
     "name": "stdout",
     "output_type": "stream",
     "text": [
      "(5,) (3,)\n",
      "\n",
      "\n",
      "[1 2 3 4 5 1 2 3]\n"
     ]
    }
   ],
   "source": [
    "# 연습\n",
    "\n",
    "a = np.arange(1, 6)\n",
    "b = np.arange(1, 4)\n",
    "\n",
    "print(a.shape, b.shape)\n",
    "print('\\n')\n",
    "print(np.hstack((a, b)))"
   ]
  },
  {
   "cell_type": "code",
   "execution_count": 6,
   "metadata": {},
   "outputs": [
    {
     "name": "stdout",
     "output_type": "stream",
     "text": [
      "(5, 1) (5, 1)\n",
      "\n",
      "\n",
      "[[1]\n",
      " [2]\n",
      " [3]\n",
      " [4]\n",
      " [5]\n",
      " [1]\n",
      " [2]\n",
      " [3]\n",
      " [4]\n",
      " [5]]\n",
      "\n",
      "\n",
      "[1 2 3 4 5 1 2 3 4 5]\n"
     ]
    }
   ],
   "source": [
    "# 연습\n",
    "\n",
    "c = np.array([[1], [2], [3], [4], [5]])\n",
    "d = np.array([[1], [2], [3], [4], [5]])\n",
    "\n",
    "print(c.shape, d.shape)\n",
    "print('\\n')\n",
    "print(np.vstack((c, d)))\n",
    "print('\\n')\n",
    "print(np.vstack((c, d)).reshape(-1))"
   ]
  },
  {
   "cell_type": "code",
   "execution_count": 11,
   "metadata": {},
   "outputs": [
    {
     "data": {
      "text/plain": [
       "array([1, 2, 3, 4, 5])"
      ]
     },
     "execution_count": 11,
     "metadata": {},
     "output_type": "execute_result"
    }
   ],
   "source": [
    "c.ravel()"
   ]
  },
  {
   "cell_type": "markdown",
   "metadata": {},
   "source": [
    "<br>\n",
    "\n",
    "이러한 성질을 이용하여 아래와 같이 oof_score 점수를 계산하는 함수 구현\n",
    "\n",
    "<br>"
   ]
  },
  {
   "cell_type": "markdown",
   "metadata": {},
   "source": [
    "<br>\n",
    "\n",
    "### optuna 를 이용한 하이퍼 파라미터 튜닝\n",
    "\n",
    "<br>"
   ]
  },
  {
   "cell_type": "markdown",
   "metadata": {},
   "source": [
    "[베이지안 최적화 설명 참고](https://wooono.tistory.com/102)\n",
    "\n",
    "[optuna for LGBM 참고 커널](https://www.kaggle.com/bextuychiev/lgbm-optuna-hyperparameter-tuning-w-understanding/notebook)\n",
    "\n",
    "[위 커널 작성자의 Optuna 관련 article](https://towardsdatascience.com/why-is-everyone-at-kaggle-obsessed-with-optuna-for-hyperparameter-tuning-7608fdca337c)"
   ]
  },
  {
   "cell_type": "markdown",
   "metadata": {},
   "source": [
    "#### step1. Creating the search grid in Optuna\n",
    "\n",
    "* 탐색할 파라미터의 범위를 딕셔너리 형태로 만듦\n",
    "\n",
    "* 하이퍼 파라미터 조합 set을 적용할 모델 생성\n",
    "\n",
    "* 모델 피팅 및 예측 수행\n",
    "\n",
    "* 지정된 metric에 따른 모델 성능 평가 점수 반환"
   ]
  },
  {
   "cell_type": "code",
   "execution_count": 10,
   "metadata": {
    "execution": {
     "iopub.execute_input": "2021-09-28T10:15:19.536055Z",
     "iopub.status.busy": "2021-09-28T10:15:19.535301Z",
     "iopub.status.idle": "2021-09-28T10:15:19.538316Z",
     "shell.execute_reply": "2021-09-28T10:15:19.537751Z",
     "shell.execute_reply.started": "2021-09-28T09:57:36.139474Z"
    },
    "papermill": {
     "duration": 0.029095,
     "end_time": "2021-09-28T10:15:19.538465",
     "exception": false,
     "start_time": "2021-09-28T10:15:19.509370",
     "status": "completed"
    },
    "tags": []
   },
   "outputs": [],
   "source": [
    "# out of folds 점수 계산 함수 구현: \n",
    "\n",
    "def oof_score(models, trn):\n",
    "    \n",
    "    preds, targets = [], []\n",
    "    \n",
    "    for idx, model in enumerate(models):\n",
    "        preds.append(model.predict(trn[trn[\"kfold\"] == idx][features]))\n",
    "        targets.append(trn[trn[\"kfold\"] == idx][target].values)\n",
    "    preds, targets = np.hstack(preds), np.vstack(targets).reshape(-1)\n",
    "    return mean_squared_error(targets, preds, squared = False)  # squared = False 로 설정하면 굳이 np.sqrt 안해도 RMSE로 반환한다."
   ]
  },
  {
   "cell_type": "code",
   "execution_count": 11,
   "metadata": {
    "execution": {
     "iopub.execute_input": "2021-09-28T10:15:19.585100Z",
     "iopub.status.busy": "2021-09-28T10:15:19.584402Z",
     "iopub.status.idle": "2021-09-28T10:15:19.590538Z",
     "shell.execute_reply": "2021-09-28T10:15:19.590990Z",
     "shell.execute_reply.started": "2021-09-28T10:02:47.487645Z"
    },
    "papermill": {
     "duration": 0.033735,
     "end_time": "2021-09-28T10:15:19.591190",
     "exception": false,
     "start_time": "2021-09-28T10:15:19.557455",
     "status": "completed"
    },
    "tags": []
   },
   "outputs": [],
   "source": [
    "def objective(trial, trn, features, target):\n",
    "    params = {\n",
    "        'boosting_type': 'gbdt',\n",
    "        'objective': 'regression',\n",
    "        'metric': {'rmse'},\n",
    "        'n_estimators': trial.suggest_int(\"n_estimators\", 64, 8192),\n",
    "        'learning_rate': trial.suggest_float(\"learning_rate\", 1e-3, 0.25, log=True),\n",
    "        'num_leaves': trial.suggest_int(\"num_leaves\", 8, 4096),\n",
    "        'max_depth': trial.suggest_int(\"max_depth\", 3, 12),\n",
    "        'feature_fraction': trial.suggest_float(\"feature_fraction\", 0.1, 1.0),\n",
    "        'lambda_l1': trial.suggest_loguniform(\"lambda_l1\", 1e-8, 100.0),\n",
    "        'lambda_l2': trial.suggest_loguniform(\"lambda_l2\", 1e-8, 100.0),\n",
    "        'seed': 42,\n",
    "        'deterministic': True,\n",
    "        'verbose':-1\n",
    "    }\n",
    "\n",
    "    models = []\n",
    "    for fold in range(N_FOLDS):\n",
    "        train = trn[trn[\"kfold\"] != fold]\n",
    "        val = trn[trn[\"kfold\"] == fold]\n",
    "\n",
    "        x_train, y_train = train[features], train[target]\n",
    "        x_val, y_val = val[features], val[target]\n",
    "\n",
    "        lgb_train = lgb.Dataset(x_train, y_train)\n",
    "        lgb_val = lgb.Dataset(x_val, y_val)\n",
    "\n",
    "        model = lgb.train(\n",
    "            params,\n",
    "            lgb_train,\n",
    "            num_boost_round=5000,\n",
    "            valid_sets=(lgb_train, lgb_val),\n",
    "            early_stopping_rounds=100,\n",
    "            verbose_eval=False        \n",
    "        )\n",
    "        models.append(model)\n",
    "    return oof_score(models, trn)"
   ]
  },
  {
   "cell_type": "markdown",
   "metadata": {},
   "source": [
    "<br><br><br>\n",
    "\n",
    "#### [잠깐] functools의 partial 사용해보기\n",
    "\n",
    "[참고](https://hamait.tistory.com/823)"
   ]
  },
  {
   "cell_type": "code",
   "execution_count": 12,
   "metadata": {},
   "outputs": [],
   "source": [
    "# 단순히 제곱 계산 식\n",
    "def power(base, exponent):\n",
    "    return base ** exponent\n"
   ]
  },
  {
   "cell_type": "code",
   "execution_count": 13,
   "metadata": {},
   "outputs": [],
   "source": [
    "# 정해진 지수를 갖는 전용 함수를 만드려면 아래와 같이 수행\n",
    "# 그러나 이런 식으로 만들어야 할 함수가 너무 많아진다면 비효율적인 작업이 될 것.\n",
    "\n",
    "def square(base):\n",
    "    return power(base, 2)\n",
    "\n",
    "def cube(base):\n",
    "    return power(base, 3)"
   ]
  },
  {
   "cell_type": "code",
   "execution_count": 14,
   "metadata": {},
   "outputs": [],
   "source": [
    "# 따라서 아래와 같이 partial을 이용하여 간소화할 수 있다.\n",
    "\n",
    "square_new = partial(power, exponent=2)\n",
    "cube_new = partial(power, exponent=3)"
   ]
  },
  {
   "cell_type": "code",
   "execution_count": 15,
   "metadata": {},
   "outputs": [
    {
     "data": {
      "text/plain": [
       "4"
      ]
     },
     "execution_count": 15,
     "metadata": {},
     "output_type": "execute_result"
    }
   ],
   "source": [
    "square_new(2)"
   ]
  },
  {
   "cell_type": "markdown",
   "metadata": {},
   "source": [
    "<br>\n",
    "\n",
    "위 partial 연습한 부분을 응용하여 아래와 같이 opt_fun을 만들겠다.\n",
    "\n",
    "<br>"
   ]
  },
  {
   "cell_type": "markdown",
   "metadata": {},
   "source": [
    "<br><br>\n",
    "\n",
    "#### step2. Creating Optuna study and running trials\n",
    "\n",
    "* optuna.create_study를 통해 study 객체 생성\n",
    "\n",
    "* 생성된 study 객체에 optimize 명령. optimize의 인자는 위에서 생성한 objective function이 된다. 여기서 trial 횟수도 지정해야 한다.\n",
    "\n",
    "* 이후 study 객체를 이용하여 best_params, best_value 등 결과를 확인할 수 있다."
   ]
  },
  {
   "cell_type": "code",
   "execution_count": 16,
   "metadata": {
    "_kg_hide-output": true,
    "execution": {
     "iopub.execute_input": "2021-09-28T10:15:19.635008Z",
     "iopub.status.busy": "2021-09-28T10:15:19.634368Z",
     "iopub.status.idle": "2021-09-28T10:20:40.956485Z",
     "shell.execute_reply": "2021-09-28T10:20:40.957391Z",
     "shell.execute_reply.started": "2021-09-28T10:02:49.042077Z"
    },
    "papermill": {
     "duration": 321.347662,
     "end_time": "2021-09-28T10:20:40.957625",
     "exception": false,
     "start_time": "2021-09-28T10:15:19.609963",
     "status": "completed"
    },
    "tags": []
   },
   "outputs": [
    {
     "name": "stderr",
     "output_type": "stream",
     "text": [
      "\u001b[32m[I 2021-10-15 16:48:53,949]\u001b[0m A new study created in memory with name: no-name-27955db3-2cb8-4bcd-a5ca-5d709569190f\u001b[0m\n",
      "\u001b[32m[I 2021-10-15 16:48:55,577]\u001b[0m Trial 0 finished with value: 20.573240169082755 and parameters: {'n_estimators': 6525, 'learning_rate': 0.0021207127179133927, 'num_leaves': 2884, 'max_depth': 3, 'feature_fraction': 0.6658052035195752, 'lambda_l1': 6.606960127083125e-07, 'lambda_l2': 0.06035117341099965}. Best is trial 0 with value: 20.573240169082755.\u001b[0m\n",
      "\u001b[32m[I 2021-10-15 16:48:55,873]\u001b[0m Trial 1 finished with value: 20.57257025194138 and parameters: {'n_estimators': 5212, 'learning_rate': 0.09516685382242021, 'num_leaves': 3599, 'max_depth': 3, 'feature_fraction': 0.3809322078155738, 'lambda_l1': 0.00022518615518774015, 'lambda_l2': 62.8967724599493}. Best is trial 1 with value: 20.57257025194138.\u001b[0m\n",
      "\u001b[32m[I 2021-10-15 16:48:56,369]\u001b[0m Trial 2 finished with value: 20.576950206880444 and parameters: {'n_estimators': 1904, 'learning_rate': 0.026809216481537515, 'num_leaves': 2189, 'max_depth': 3, 'feature_fraction': 0.2740211126512759, 'lambda_l1': 7.883665468413628e-08, 'lambda_l2': 4.509700397968014e-05}. Best is trial 1 with value: 20.57257025194138.\u001b[0m\n",
      "\u001b[32m[I 2021-10-15 16:48:56,621]\u001b[0m Trial 3 finished with value: 20.576138525246307 and parameters: {'n_estimators': 5290, 'learning_rate': 0.22408331228167674, 'num_leaves': 1452, 'max_depth': 7, 'feature_fraction': 0.45712237746044704, 'lambda_l1': 5.3743263403535005e-06, 'lambda_l2': 0.5043309613476981}. Best is trial 1 with value: 20.57257025194138.\u001b[0m\n",
      "\u001b[32m[I 2021-10-15 16:48:57,059]\u001b[0m Trial 4 finished with value: 20.5773591579269 and parameters: {'n_estimators': 3368, 'learning_rate': 0.04130661009088829, 'num_leaves': 848, 'max_depth': 9, 'feature_fraction': 0.4142253548263427, 'lambda_l1': 3.822414923827593e-06, 'lambda_l2': 0.2778370383644074}. Best is trial 1 with value: 20.57257025194138.\u001b[0m\n",
      "\u001b[32m[I 2021-10-15 16:48:59,317]\u001b[0m Trial 5 finished with value: 20.57486441178483 and parameters: {'n_estimators': 6547, 'learning_rate': 0.002207186142985641, 'num_leaves': 2974, 'max_depth': 7, 'feature_fraction': 0.5014970627429578, 'lambda_l1': 0.0010206711564400312, 'lambda_l2': 6.85534440598614e-07}. Best is trial 1 with value: 20.57257025194138.\u001b[0m\n",
      "\u001b[32m[I 2021-10-15 16:49:00,185]\u001b[0m Trial 6 finished with value: 20.574615746357587 and parameters: {'n_estimators': 4480, 'learning_rate': 0.007574050923795337, 'num_leaves': 2505, 'max_depth': 9, 'feature_fraction': 0.7372808916426923, 'lambda_l1': 1.1274182183412403e-05, 'lambda_l2': 0.00338174178748399}. Best is trial 1 with value: 20.57257025194138.\u001b[0m\n",
      "\u001b[32m[I 2021-10-15 16:49:01,979]\u001b[0m Trial 7 finished with value: 20.57776398695344 and parameters: {'n_estimators': 6175, 'learning_rate': 0.006797938903624325, 'num_leaves': 3578, 'max_depth': 8, 'feature_fraction': 0.13494295398757314, 'lambda_l1': 1.7760468136806415e-06, 'lambda_l2': 4.8733837952865667e-08}. Best is trial 1 with value: 20.57257025194138.\u001b[0m\n",
      "\u001b[32m[I 2021-10-15 16:49:02,230]\u001b[0m Trial 8 finished with value: 20.572279262957725 and parameters: {'n_estimators': 2888, 'learning_rate': 0.058871054843416634, 'num_leaves': 2543, 'max_depth': 4, 'feature_fraction': 0.882983581535386, 'lambda_l1': 0.05518992713363554, 'lambda_l2': 1.639117375036573}. Best is trial 8 with value: 20.572279262957725.\u001b[0m\n",
      "\u001b[32m[I 2021-10-15 16:49:02,812]\u001b[0m Trial 9 finished with value: 20.570950302656705 and parameters: {'n_estimators': 2415, 'learning_rate': 0.011742909924093024, 'num_leaves': 737, 'max_depth': 11, 'feature_fraction': 0.9871498325775747, 'lambda_l1': 21.717215991758113, 'lambda_l2': 7.849282580359565e-05}. Best is trial 9 with value: 20.570950302656705.\u001b[0m\n"
     ]
    },
    {
     "name": "stdout",
     "output_type": "stream",
     "text": [
      "{'n_estimators': 2415, 'learning_rate': 0.011742909924093024, 'num_leaves': 737, 'max_depth': 11, 'feature_fraction': 0.9871498325775747, 'lambda_l1': 21.717215991758113, 'lambda_l2': 7.849282580359565e-05}\n"
     ]
    }
   ],
   "source": [
    "# 여기서 partial을 활용한 것이 확실히 효율적인 지는 모르겠지만,\n",
    "# 위에서 objective함수를 구현하면서 필요한 인자를 partial을 이용해 opt_fun에 한 번에 담았고 \n",
    "# study.optimize 명령에서 이를 이용하였다는 것을 알 수 있다.\n",
    "\n",
    "opt_fun = partial(\n",
    "    objective,\n",
    "    trn = trn,\n",
    "    features = features,\n",
    "    target = target\n",
    ")\n",
    "\n",
    "# opt_fun = lambda trial : objective(trial, trn, features, target) \n",
    "# 이렇게 해도 결과는 같음\n",
    "\n",
    "study = optuna.create_study(direction=\"minimize\")\n",
    "study.optimize(opt_fun, n_trials=10)\n",
    "print(study.best_params)"
   ]
  },
  {
   "cell_type": "code",
   "execution_count": 17,
   "metadata": {
    "execution": {
     "iopub.execute_input": "2021-09-28T10:20:41.615558Z",
     "iopub.status.busy": "2021-09-28T10:20:41.614812Z",
     "iopub.status.idle": "2021-09-28T10:20:41.617383Z",
     "shell.execute_reply": "2021-09-28T10:20:41.617878Z",
     "shell.execute_reply.started": "2021-09-28T10:12:50.932356Z"
    },
    "papermill": {
     "duration": 0.33367,
     "end_time": "2021-09-28T10:20:41.618047",
     "exception": false,
     "start_time": "2021-09-28T10:20:41.284377",
     "status": "completed"
    },
    "tags": []
   },
   "outputs": [
    {
     "data": {
      "text/plain": [
       "(20.570950302656705,\n",
       " {'n_estimators': 2415,\n",
       "  'learning_rate': 0.011742909924093024,\n",
       "  'num_leaves': 737,\n",
       "  'max_depth': 11,\n",
       "  'feature_fraction': 0.9871498325775747,\n",
       "  'lambda_l1': 21.717215991758113,\n",
       "  'lambda_l2': 7.849282580359565e-05})"
      ]
     },
     "execution_count": 17,
     "metadata": {},
     "output_type": "execute_result"
    }
   ],
   "source": [
    "study.best_value, study.best_params"
   ]
  },
  {
   "cell_type": "code",
   "execution_count": 18,
   "metadata": {
    "execution": {
     "iopub.execute_input": "2021-09-28T10:20:42.316880Z",
     "iopub.status.busy": "2021-09-28T10:20:42.316141Z",
     "iopub.status.idle": "2021-09-28T10:20:42.325062Z",
     "shell.execute_reply": "2021-09-28T10:20:42.325662Z",
     "shell.execute_reply.started": "2021-09-28T10:13:53.201625Z"
    },
    "papermill": {
     "duration": 0.37264,
     "end_time": "2021-09-28T10:20:42.325836",
     "exception": false,
     "start_time": "2021-09-28T10:20:41.953196",
     "status": "completed"
    },
    "scrolled": true,
    "tags": []
   },
   "outputs": [
    {
     "data": {
      "text/plain": [
       "{'n_estimators': 2415,\n",
       " 'learning_rate': 0.011742909924093024,\n",
       " 'num_leaves': 737,\n",
       " 'max_depth': 11,\n",
       " 'feature_fraction': 0.9871498325775747,\n",
       " 'lambda_l1': 21.717215991758113,\n",
       " 'lambda_l2': 7.849282580359565e-05,\n",
       " 'boosting_type': 'gbdt',\n",
       " 'objective': 'regression',\n",
       " 'metric': {'rmse'}}"
      ]
     },
     "execution_count": 18,
     "metadata": {},
     "output_type": "execute_result"
    }
   ],
   "source": [
    "params = study.best_params.copy()\n",
    "params.update({\n",
    "    'boosting_type': 'gbdt',\n",
    "    'objective': 'regression',\n",
    "    'metric': {'rmse'}\n",
    "})\n",
    "params"
   ]
  },
  {
   "cell_type": "markdown",
   "metadata": {},
   "source": [
    "<br><br><br>\n",
    "\n",
    "#### step2. optuna의 기타 메서드 사용\n",
    "\n",
    "<br>"
   ]
  },
  {
   "cell_type": "code",
   "execution_count": 30,
   "metadata": {},
   "outputs": [
    {
     "data": {
      "text/plain": [
       "OrderedDict([('feature_fraction', 0.340577755880368),\n",
       "             ('max_depth', 0.22293034986282603),\n",
       "             ('num_leaves', 0.12905623534116634),\n",
       "             ('n_estimators', 0.11053474049868989),\n",
       "             ('learning_rate', 0.07376327519721051),\n",
       "             ('lambda_l1', 0.07369447832179399),\n",
       "             ('lambda_l2', 0.04944316489794516)])"
      ]
     },
     "execution_count": 30,
     "metadata": {},
     "output_type": "execute_result"
    }
   ],
   "source": [
    "optuna.importance.get_param_importances(study)"
   ]
  },
  {
   "cell_type": "code",
   "execution_count": 31,
   "metadata": {},
   "outputs": [
    {
     "data": {
      "application/vnd.plotly.v1+json": {
       "config": {
        "plotlyServerURL": "https://plot.ly"
       },
       "data": [
        {
         "cliponaxis": false,
         "hovertemplate": [
          "num_leaves (IntUniformDistribution): 0.05248162273995509<extra></extra>",
          "lambda_l1 (LogUniformDistribution): 0.07055545200318225<extra></extra>",
          "learning_rate (LogUniformDistribution): 0.12207873009365855<extra></extra>",
          "lambda_l2 (LogUniformDistribution): 0.13331520359202192<extra></extra>",
          "n_estimators (IntUniformDistribution): 0.13676687640745525<extra></extra>",
          "max_depth (IntUniformDistribution): 0.1827726991221319<extra></extra>",
          "feature_fraction (UniformDistribution): 0.30202941604159517<extra></extra>"
         ],
         "marker": {
          "color": "rgb(66,146,198)"
         },
         "orientation": "h",
         "text": [
          "0.05248162273995509",
          "0.07055545200318225",
          "0.12207873009365855",
          "0.13331520359202192",
          "0.13676687640745525",
          "0.1827726991221319",
          "0.30202941604159517"
         ],
         "textposition": "outside",
         "texttemplate": "%{text:.2f}",
         "type": "bar",
         "x": [
          0.05248162273995509,
          0.07055545200318225,
          0.12207873009365855,
          0.13331520359202192,
          0.13676687640745525,
          0.1827726991221319,
          0.30202941604159517
         ],
         "y": [
          "num_leaves",
          "lambda_l1",
          "learning_rate",
          "lambda_l2",
          "n_estimators",
          "max_depth",
          "feature_fraction"
         ]
        }
       ],
       "layout": {
        "showlegend": false,
        "template": {
         "data": {
          "bar": [
           {
            "error_x": {
             "color": "#2a3f5f"
            },
            "error_y": {
             "color": "#2a3f5f"
            },
            "marker": {
             "line": {
              "color": "#E5ECF6",
              "width": 0.5
             },
             "pattern": {
              "fillmode": "overlay",
              "size": 10,
              "solidity": 0.2
             }
            },
            "type": "bar"
           }
          ],
          "barpolar": [
           {
            "marker": {
             "line": {
              "color": "#E5ECF6",
              "width": 0.5
             },
             "pattern": {
              "fillmode": "overlay",
              "size": 10,
              "solidity": 0.2
             }
            },
            "type": "barpolar"
           }
          ],
          "carpet": [
           {
            "aaxis": {
             "endlinecolor": "#2a3f5f",
             "gridcolor": "white",
             "linecolor": "white",
             "minorgridcolor": "white",
             "startlinecolor": "#2a3f5f"
            },
            "baxis": {
             "endlinecolor": "#2a3f5f",
             "gridcolor": "white",
             "linecolor": "white",
             "minorgridcolor": "white",
             "startlinecolor": "#2a3f5f"
            },
            "type": "carpet"
           }
          ],
          "choropleth": [
           {
            "colorbar": {
             "outlinewidth": 0,
             "ticks": ""
            },
            "type": "choropleth"
           }
          ],
          "contour": [
           {
            "colorbar": {
             "outlinewidth": 0,
             "ticks": ""
            },
            "colorscale": [
             [
              0,
              "#0d0887"
             ],
             [
              0.1111111111111111,
              "#46039f"
             ],
             [
              0.2222222222222222,
              "#7201a8"
             ],
             [
              0.3333333333333333,
              "#9c179e"
             ],
             [
              0.4444444444444444,
              "#bd3786"
             ],
             [
              0.5555555555555556,
              "#d8576b"
             ],
             [
              0.6666666666666666,
              "#ed7953"
             ],
             [
              0.7777777777777778,
              "#fb9f3a"
             ],
             [
              0.8888888888888888,
              "#fdca26"
             ],
             [
              1,
              "#f0f921"
             ]
            ],
            "type": "contour"
           }
          ],
          "contourcarpet": [
           {
            "colorbar": {
             "outlinewidth": 0,
             "ticks": ""
            },
            "type": "contourcarpet"
           }
          ],
          "heatmap": [
           {
            "colorbar": {
             "outlinewidth": 0,
             "ticks": ""
            },
            "colorscale": [
             [
              0,
              "#0d0887"
             ],
             [
              0.1111111111111111,
              "#46039f"
             ],
             [
              0.2222222222222222,
              "#7201a8"
             ],
             [
              0.3333333333333333,
              "#9c179e"
             ],
             [
              0.4444444444444444,
              "#bd3786"
             ],
             [
              0.5555555555555556,
              "#d8576b"
             ],
             [
              0.6666666666666666,
              "#ed7953"
             ],
             [
              0.7777777777777778,
              "#fb9f3a"
             ],
             [
              0.8888888888888888,
              "#fdca26"
             ],
             [
              1,
              "#f0f921"
             ]
            ],
            "type": "heatmap"
           }
          ],
          "heatmapgl": [
           {
            "colorbar": {
             "outlinewidth": 0,
             "ticks": ""
            },
            "colorscale": [
             [
              0,
              "#0d0887"
             ],
             [
              0.1111111111111111,
              "#46039f"
             ],
             [
              0.2222222222222222,
              "#7201a8"
             ],
             [
              0.3333333333333333,
              "#9c179e"
             ],
             [
              0.4444444444444444,
              "#bd3786"
             ],
             [
              0.5555555555555556,
              "#d8576b"
             ],
             [
              0.6666666666666666,
              "#ed7953"
             ],
             [
              0.7777777777777778,
              "#fb9f3a"
             ],
             [
              0.8888888888888888,
              "#fdca26"
             ],
             [
              1,
              "#f0f921"
             ]
            ],
            "type": "heatmapgl"
           }
          ],
          "histogram": [
           {
            "marker": {
             "pattern": {
              "fillmode": "overlay",
              "size": 10,
              "solidity": 0.2
             }
            },
            "type": "histogram"
           }
          ],
          "histogram2d": [
           {
            "colorbar": {
             "outlinewidth": 0,
             "ticks": ""
            },
            "colorscale": [
             [
              0,
              "#0d0887"
             ],
             [
              0.1111111111111111,
              "#46039f"
             ],
             [
              0.2222222222222222,
              "#7201a8"
             ],
             [
              0.3333333333333333,
              "#9c179e"
             ],
             [
              0.4444444444444444,
              "#bd3786"
             ],
             [
              0.5555555555555556,
              "#d8576b"
             ],
             [
              0.6666666666666666,
              "#ed7953"
             ],
             [
              0.7777777777777778,
              "#fb9f3a"
             ],
             [
              0.8888888888888888,
              "#fdca26"
             ],
             [
              1,
              "#f0f921"
             ]
            ],
            "type": "histogram2d"
           }
          ],
          "histogram2dcontour": [
           {
            "colorbar": {
             "outlinewidth": 0,
             "ticks": ""
            },
            "colorscale": [
             [
              0,
              "#0d0887"
             ],
             [
              0.1111111111111111,
              "#46039f"
             ],
             [
              0.2222222222222222,
              "#7201a8"
             ],
             [
              0.3333333333333333,
              "#9c179e"
             ],
             [
              0.4444444444444444,
              "#bd3786"
             ],
             [
              0.5555555555555556,
              "#d8576b"
             ],
             [
              0.6666666666666666,
              "#ed7953"
             ],
             [
              0.7777777777777778,
              "#fb9f3a"
             ],
             [
              0.8888888888888888,
              "#fdca26"
             ],
             [
              1,
              "#f0f921"
             ]
            ],
            "type": "histogram2dcontour"
           }
          ],
          "mesh3d": [
           {
            "colorbar": {
             "outlinewidth": 0,
             "ticks": ""
            },
            "type": "mesh3d"
           }
          ],
          "parcoords": [
           {
            "line": {
             "colorbar": {
              "outlinewidth": 0,
              "ticks": ""
             }
            },
            "type": "parcoords"
           }
          ],
          "pie": [
           {
            "automargin": true,
            "type": "pie"
           }
          ],
          "scatter": [
           {
            "marker": {
             "colorbar": {
              "outlinewidth": 0,
              "ticks": ""
             }
            },
            "type": "scatter"
           }
          ],
          "scatter3d": [
           {
            "line": {
             "colorbar": {
              "outlinewidth": 0,
              "ticks": ""
             }
            },
            "marker": {
             "colorbar": {
              "outlinewidth": 0,
              "ticks": ""
             }
            },
            "type": "scatter3d"
           }
          ],
          "scattercarpet": [
           {
            "marker": {
             "colorbar": {
              "outlinewidth": 0,
              "ticks": ""
             }
            },
            "type": "scattercarpet"
           }
          ],
          "scattergeo": [
           {
            "marker": {
             "colorbar": {
              "outlinewidth": 0,
              "ticks": ""
             }
            },
            "type": "scattergeo"
           }
          ],
          "scattergl": [
           {
            "marker": {
             "colorbar": {
              "outlinewidth": 0,
              "ticks": ""
             }
            },
            "type": "scattergl"
           }
          ],
          "scattermapbox": [
           {
            "marker": {
             "colorbar": {
              "outlinewidth": 0,
              "ticks": ""
             }
            },
            "type": "scattermapbox"
           }
          ],
          "scatterpolar": [
           {
            "marker": {
             "colorbar": {
              "outlinewidth": 0,
              "ticks": ""
             }
            },
            "type": "scatterpolar"
           }
          ],
          "scatterpolargl": [
           {
            "marker": {
             "colorbar": {
              "outlinewidth": 0,
              "ticks": ""
             }
            },
            "type": "scatterpolargl"
           }
          ],
          "scatterternary": [
           {
            "marker": {
             "colorbar": {
              "outlinewidth": 0,
              "ticks": ""
             }
            },
            "type": "scatterternary"
           }
          ],
          "surface": [
           {
            "colorbar": {
             "outlinewidth": 0,
             "ticks": ""
            },
            "colorscale": [
             [
              0,
              "#0d0887"
             ],
             [
              0.1111111111111111,
              "#46039f"
             ],
             [
              0.2222222222222222,
              "#7201a8"
             ],
             [
              0.3333333333333333,
              "#9c179e"
             ],
             [
              0.4444444444444444,
              "#bd3786"
             ],
             [
              0.5555555555555556,
              "#d8576b"
             ],
             [
              0.6666666666666666,
              "#ed7953"
             ],
             [
              0.7777777777777778,
              "#fb9f3a"
             ],
             [
              0.8888888888888888,
              "#fdca26"
             ],
             [
              1,
              "#f0f921"
             ]
            ],
            "type": "surface"
           }
          ],
          "table": [
           {
            "cells": {
             "fill": {
              "color": "#EBF0F8"
             },
             "line": {
              "color": "white"
             }
            },
            "header": {
             "fill": {
              "color": "#C8D4E3"
             },
             "line": {
              "color": "white"
             }
            },
            "type": "table"
           }
          ]
         },
         "layout": {
          "annotationdefaults": {
           "arrowcolor": "#2a3f5f",
           "arrowhead": 0,
           "arrowwidth": 1
          },
          "autotypenumbers": "strict",
          "coloraxis": {
           "colorbar": {
            "outlinewidth": 0,
            "ticks": ""
           }
          },
          "colorscale": {
           "diverging": [
            [
             0,
             "#8e0152"
            ],
            [
             0.1,
             "#c51b7d"
            ],
            [
             0.2,
             "#de77ae"
            ],
            [
             0.3,
             "#f1b6da"
            ],
            [
             0.4,
             "#fde0ef"
            ],
            [
             0.5,
             "#f7f7f7"
            ],
            [
             0.6,
             "#e6f5d0"
            ],
            [
             0.7,
             "#b8e186"
            ],
            [
             0.8,
             "#7fbc41"
            ],
            [
             0.9,
             "#4d9221"
            ],
            [
             1,
             "#276419"
            ]
           ],
           "sequential": [
            [
             0,
             "#0d0887"
            ],
            [
             0.1111111111111111,
             "#46039f"
            ],
            [
             0.2222222222222222,
             "#7201a8"
            ],
            [
             0.3333333333333333,
             "#9c179e"
            ],
            [
             0.4444444444444444,
             "#bd3786"
            ],
            [
             0.5555555555555556,
             "#d8576b"
            ],
            [
             0.6666666666666666,
             "#ed7953"
            ],
            [
             0.7777777777777778,
             "#fb9f3a"
            ],
            [
             0.8888888888888888,
             "#fdca26"
            ],
            [
             1,
             "#f0f921"
            ]
           ],
           "sequentialminus": [
            [
             0,
             "#0d0887"
            ],
            [
             0.1111111111111111,
             "#46039f"
            ],
            [
             0.2222222222222222,
             "#7201a8"
            ],
            [
             0.3333333333333333,
             "#9c179e"
            ],
            [
             0.4444444444444444,
             "#bd3786"
            ],
            [
             0.5555555555555556,
             "#d8576b"
            ],
            [
             0.6666666666666666,
             "#ed7953"
            ],
            [
             0.7777777777777778,
             "#fb9f3a"
            ],
            [
             0.8888888888888888,
             "#fdca26"
            ],
            [
             1,
             "#f0f921"
            ]
           ]
          },
          "colorway": [
           "#636efa",
           "#EF553B",
           "#00cc96",
           "#ab63fa",
           "#FFA15A",
           "#19d3f3",
           "#FF6692",
           "#B6E880",
           "#FF97FF",
           "#FECB52"
          ],
          "font": {
           "color": "#2a3f5f"
          },
          "geo": {
           "bgcolor": "white",
           "lakecolor": "white",
           "landcolor": "#E5ECF6",
           "showlakes": true,
           "showland": true,
           "subunitcolor": "white"
          },
          "hoverlabel": {
           "align": "left"
          },
          "hovermode": "closest",
          "mapbox": {
           "style": "light"
          },
          "paper_bgcolor": "white",
          "plot_bgcolor": "#E5ECF6",
          "polar": {
           "angularaxis": {
            "gridcolor": "white",
            "linecolor": "white",
            "ticks": ""
           },
           "bgcolor": "#E5ECF6",
           "radialaxis": {
            "gridcolor": "white",
            "linecolor": "white",
            "ticks": ""
           }
          },
          "scene": {
           "xaxis": {
            "backgroundcolor": "#E5ECF6",
            "gridcolor": "white",
            "gridwidth": 2,
            "linecolor": "white",
            "showbackground": true,
            "ticks": "",
            "zerolinecolor": "white"
           },
           "yaxis": {
            "backgroundcolor": "#E5ECF6",
            "gridcolor": "white",
            "gridwidth": 2,
            "linecolor": "white",
            "showbackground": true,
            "ticks": "",
            "zerolinecolor": "white"
           },
           "zaxis": {
            "backgroundcolor": "#E5ECF6",
            "gridcolor": "white",
            "gridwidth": 2,
            "linecolor": "white",
            "showbackground": true,
            "ticks": "",
            "zerolinecolor": "white"
           }
          },
          "shapedefaults": {
           "line": {
            "color": "#2a3f5f"
           }
          },
          "ternary": {
           "aaxis": {
            "gridcolor": "white",
            "linecolor": "white",
            "ticks": ""
           },
           "baxis": {
            "gridcolor": "white",
            "linecolor": "white",
            "ticks": ""
           },
           "bgcolor": "#E5ECF6",
           "caxis": {
            "gridcolor": "white",
            "linecolor": "white",
            "ticks": ""
           }
          },
          "title": {
           "x": 0.05
          },
          "xaxis": {
           "automargin": true,
           "gridcolor": "white",
           "linecolor": "white",
           "ticks": "",
           "title": {
            "standoff": 15
           },
           "zerolinecolor": "white",
           "zerolinewidth": 2
          },
          "yaxis": {
           "automargin": true,
           "gridcolor": "white",
           "linecolor": "white",
           "ticks": "",
           "title": {
            "standoff": 15
           },
           "zerolinecolor": "white",
           "zerolinewidth": 2
          }
         }
        },
        "title": {
         "text": "Hyperparameter Importances"
        },
        "xaxis": {
         "title": {
          "text": "Importance for Objective Value"
         }
        },
        "yaxis": {
         "title": {
          "text": "Hyperparameter"
         }
        }
       }
      },
      "text/html": [
       "<div>                            <div id=\"c36a7b1e-4a8b-4adf-aa95-9e19c138d204\" class=\"plotly-graph-div\" style=\"height:525px; width:100%;\"></div>            <script type=\"text/javascript\">                require([\"plotly\"], function(Plotly) {                    window.PLOTLYENV=window.PLOTLYENV || {};                                    if (document.getElementById(\"c36a7b1e-4a8b-4adf-aa95-9e19c138d204\")) {                    Plotly.newPlot(                        \"c36a7b1e-4a8b-4adf-aa95-9e19c138d204\",                        [{\"cliponaxis\":false,\"hovertemplate\":[\"num_leaves (IntUniformDistribution): 0.05248162273995509<extra></extra>\",\"lambda_l1 (LogUniformDistribution): 0.07055545200318225<extra></extra>\",\"learning_rate (LogUniformDistribution): 0.12207873009365855<extra></extra>\",\"lambda_l2 (LogUniformDistribution): 0.13331520359202192<extra></extra>\",\"n_estimators (IntUniformDistribution): 0.13676687640745525<extra></extra>\",\"max_depth (IntUniformDistribution): 0.1827726991221319<extra></extra>\",\"feature_fraction (UniformDistribution): 0.30202941604159517<extra></extra>\"],\"marker\":{\"color\":\"rgb(66,146,198)\"},\"orientation\":\"h\",\"text\":[\"0.05248162273995509\",\"0.07055545200318225\",\"0.12207873009365855\",\"0.13331520359202192\",\"0.13676687640745525\",\"0.1827726991221319\",\"0.30202941604159517\"],\"textposition\":\"outside\",\"texttemplate\":\"%{text:.2f}\",\"type\":\"bar\",\"x\":[0.05248162273995509,0.07055545200318225,0.12207873009365855,0.13331520359202192,0.13676687640745525,0.1827726991221319,0.30202941604159517],\"y\":[\"num_leaves\",\"lambda_l1\",\"learning_rate\",\"lambda_l2\",\"n_estimators\",\"max_depth\",\"feature_fraction\"]}],                        {\"showlegend\":false,\"template\":{\"data\":{\"bar\":[{\"error_x\":{\"color\":\"#2a3f5f\"},\"error_y\":{\"color\":\"#2a3f5f\"},\"marker\":{\"line\":{\"color\":\"#E5ECF6\",\"width\":0.5},\"pattern\":{\"fillmode\":\"overlay\",\"size\":10,\"solidity\":0.2}},\"type\":\"bar\"}],\"barpolar\":[{\"marker\":{\"line\":{\"color\":\"#E5ECF6\",\"width\":0.5},\"pattern\":{\"fillmode\":\"overlay\",\"size\":10,\"solidity\":0.2}},\"type\":\"barpolar\"}],\"carpet\":[{\"aaxis\":{\"endlinecolor\":\"#2a3f5f\",\"gridcolor\":\"white\",\"linecolor\":\"white\",\"minorgridcolor\":\"white\",\"startlinecolor\":\"#2a3f5f\"},\"baxis\":{\"endlinecolor\":\"#2a3f5f\",\"gridcolor\":\"white\",\"linecolor\":\"white\",\"minorgridcolor\":\"white\",\"startlinecolor\":\"#2a3f5f\"},\"type\":\"carpet\"}],\"choropleth\":[{\"colorbar\":{\"outlinewidth\":0,\"ticks\":\"\"},\"type\":\"choropleth\"}],\"contour\":[{\"colorbar\":{\"outlinewidth\":0,\"ticks\":\"\"},\"colorscale\":[[0.0,\"#0d0887\"],[0.1111111111111111,\"#46039f\"],[0.2222222222222222,\"#7201a8\"],[0.3333333333333333,\"#9c179e\"],[0.4444444444444444,\"#bd3786\"],[0.5555555555555556,\"#d8576b\"],[0.6666666666666666,\"#ed7953\"],[0.7777777777777778,\"#fb9f3a\"],[0.8888888888888888,\"#fdca26\"],[1.0,\"#f0f921\"]],\"type\":\"contour\"}],\"contourcarpet\":[{\"colorbar\":{\"outlinewidth\":0,\"ticks\":\"\"},\"type\":\"contourcarpet\"}],\"heatmap\":[{\"colorbar\":{\"outlinewidth\":0,\"ticks\":\"\"},\"colorscale\":[[0.0,\"#0d0887\"],[0.1111111111111111,\"#46039f\"],[0.2222222222222222,\"#7201a8\"],[0.3333333333333333,\"#9c179e\"],[0.4444444444444444,\"#bd3786\"],[0.5555555555555556,\"#d8576b\"],[0.6666666666666666,\"#ed7953\"],[0.7777777777777778,\"#fb9f3a\"],[0.8888888888888888,\"#fdca26\"],[1.0,\"#f0f921\"]],\"type\":\"heatmap\"}],\"heatmapgl\":[{\"colorbar\":{\"outlinewidth\":0,\"ticks\":\"\"},\"colorscale\":[[0.0,\"#0d0887\"],[0.1111111111111111,\"#46039f\"],[0.2222222222222222,\"#7201a8\"],[0.3333333333333333,\"#9c179e\"],[0.4444444444444444,\"#bd3786\"],[0.5555555555555556,\"#d8576b\"],[0.6666666666666666,\"#ed7953\"],[0.7777777777777778,\"#fb9f3a\"],[0.8888888888888888,\"#fdca26\"],[1.0,\"#f0f921\"]],\"type\":\"heatmapgl\"}],\"histogram\":[{\"marker\":{\"pattern\":{\"fillmode\":\"overlay\",\"size\":10,\"solidity\":0.2}},\"type\":\"histogram\"}],\"histogram2d\":[{\"colorbar\":{\"outlinewidth\":0,\"ticks\":\"\"},\"colorscale\":[[0.0,\"#0d0887\"],[0.1111111111111111,\"#46039f\"],[0.2222222222222222,\"#7201a8\"],[0.3333333333333333,\"#9c179e\"],[0.4444444444444444,\"#bd3786\"],[0.5555555555555556,\"#d8576b\"],[0.6666666666666666,\"#ed7953\"],[0.7777777777777778,\"#fb9f3a\"],[0.8888888888888888,\"#fdca26\"],[1.0,\"#f0f921\"]],\"type\":\"histogram2d\"}],\"histogram2dcontour\":[{\"colorbar\":{\"outlinewidth\":0,\"ticks\":\"\"},\"colorscale\":[[0.0,\"#0d0887\"],[0.1111111111111111,\"#46039f\"],[0.2222222222222222,\"#7201a8\"],[0.3333333333333333,\"#9c179e\"],[0.4444444444444444,\"#bd3786\"],[0.5555555555555556,\"#d8576b\"],[0.6666666666666666,\"#ed7953\"],[0.7777777777777778,\"#fb9f3a\"],[0.8888888888888888,\"#fdca26\"],[1.0,\"#f0f921\"]],\"type\":\"histogram2dcontour\"}],\"mesh3d\":[{\"colorbar\":{\"outlinewidth\":0,\"ticks\":\"\"},\"type\":\"mesh3d\"}],\"parcoords\":[{\"line\":{\"colorbar\":{\"outlinewidth\":0,\"ticks\":\"\"}},\"type\":\"parcoords\"}],\"pie\":[{\"automargin\":true,\"type\":\"pie\"}],\"scatter\":[{\"marker\":{\"colorbar\":{\"outlinewidth\":0,\"ticks\":\"\"}},\"type\":\"scatter\"}],\"scatter3d\":[{\"line\":{\"colorbar\":{\"outlinewidth\":0,\"ticks\":\"\"}},\"marker\":{\"colorbar\":{\"outlinewidth\":0,\"ticks\":\"\"}},\"type\":\"scatter3d\"}],\"scattercarpet\":[{\"marker\":{\"colorbar\":{\"outlinewidth\":0,\"ticks\":\"\"}},\"type\":\"scattercarpet\"}],\"scattergeo\":[{\"marker\":{\"colorbar\":{\"outlinewidth\":0,\"ticks\":\"\"}},\"type\":\"scattergeo\"}],\"scattergl\":[{\"marker\":{\"colorbar\":{\"outlinewidth\":0,\"ticks\":\"\"}},\"type\":\"scattergl\"}],\"scattermapbox\":[{\"marker\":{\"colorbar\":{\"outlinewidth\":0,\"ticks\":\"\"}},\"type\":\"scattermapbox\"}],\"scatterpolar\":[{\"marker\":{\"colorbar\":{\"outlinewidth\":0,\"ticks\":\"\"}},\"type\":\"scatterpolar\"}],\"scatterpolargl\":[{\"marker\":{\"colorbar\":{\"outlinewidth\":0,\"ticks\":\"\"}},\"type\":\"scatterpolargl\"}],\"scatterternary\":[{\"marker\":{\"colorbar\":{\"outlinewidth\":0,\"ticks\":\"\"}},\"type\":\"scatterternary\"}],\"surface\":[{\"colorbar\":{\"outlinewidth\":0,\"ticks\":\"\"},\"colorscale\":[[0.0,\"#0d0887\"],[0.1111111111111111,\"#46039f\"],[0.2222222222222222,\"#7201a8\"],[0.3333333333333333,\"#9c179e\"],[0.4444444444444444,\"#bd3786\"],[0.5555555555555556,\"#d8576b\"],[0.6666666666666666,\"#ed7953\"],[0.7777777777777778,\"#fb9f3a\"],[0.8888888888888888,\"#fdca26\"],[1.0,\"#f0f921\"]],\"type\":\"surface\"}],\"table\":[{\"cells\":{\"fill\":{\"color\":\"#EBF0F8\"},\"line\":{\"color\":\"white\"}},\"header\":{\"fill\":{\"color\":\"#C8D4E3\"},\"line\":{\"color\":\"white\"}},\"type\":\"table\"}]},\"layout\":{\"annotationdefaults\":{\"arrowcolor\":\"#2a3f5f\",\"arrowhead\":0,\"arrowwidth\":1},\"autotypenumbers\":\"strict\",\"coloraxis\":{\"colorbar\":{\"outlinewidth\":0,\"ticks\":\"\"}},\"colorscale\":{\"diverging\":[[0,\"#8e0152\"],[0.1,\"#c51b7d\"],[0.2,\"#de77ae\"],[0.3,\"#f1b6da\"],[0.4,\"#fde0ef\"],[0.5,\"#f7f7f7\"],[0.6,\"#e6f5d0\"],[0.7,\"#b8e186\"],[0.8,\"#7fbc41\"],[0.9,\"#4d9221\"],[1,\"#276419\"]],\"sequential\":[[0.0,\"#0d0887\"],[0.1111111111111111,\"#46039f\"],[0.2222222222222222,\"#7201a8\"],[0.3333333333333333,\"#9c179e\"],[0.4444444444444444,\"#bd3786\"],[0.5555555555555556,\"#d8576b\"],[0.6666666666666666,\"#ed7953\"],[0.7777777777777778,\"#fb9f3a\"],[0.8888888888888888,\"#fdca26\"],[1.0,\"#f0f921\"]],\"sequentialminus\":[[0.0,\"#0d0887\"],[0.1111111111111111,\"#46039f\"],[0.2222222222222222,\"#7201a8\"],[0.3333333333333333,\"#9c179e\"],[0.4444444444444444,\"#bd3786\"],[0.5555555555555556,\"#d8576b\"],[0.6666666666666666,\"#ed7953\"],[0.7777777777777778,\"#fb9f3a\"],[0.8888888888888888,\"#fdca26\"],[1.0,\"#f0f921\"]]},\"colorway\":[\"#636efa\",\"#EF553B\",\"#00cc96\",\"#ab63fa\",\"#FFA15A\",\"#19d3f3\",\"#FF6692\",\"#B6E880\",\"#FF97FF\",\"#FECB52\"],\"font\":{\"color\":\"#2a3f5f\"},\"geo\":{\"bgcolor\":\"white\",\"lakecolor\":\"white\",\"landcolor\":\"#E5ECF6\",\"showlakes\":true,\"showland\":true,\"subunitcolor\":\"white\"},\"hoverlabel\":{\"align\":\"left\"},\"hovermode\":\"closest\",\"mapbox\":{\"style\":\"light\"},\"paper_bgcolor\":\"white\",\"plot_bgcolor\":\"#E5ECF6\",\"polar\":{\"angularaxis\":{\"gridcolor\":\"white\",\"linecolor\":\"white\",\"ticks\":\"\"},\"bgcolor\":\"#E5ECF6\",\"radialaxis\":{\"gridcolor\":\"white\",\"linecolor\":\"white\",\"ticks\":\"\"}},\"scene\":{\"xaxis\":{\"backgroundcolor\":\"#E5ECF6\",\"gridcolor\":\"white\",\"gridwidth\":2,\"linecolor\":\"white\",\"showbackground\":true,\"ticks\":\"\",\"zerolinecolor\":\"white\"},\"yaxis\":{\"backgroundcolor\":\"#E5ECF6\",\"gridcolor\":\"white\",\"gridwidth\":2,\"linecolor\":\"white\",\"showbackground\":true,\"ticks\":\"\",\"zerolinecolor\":\"white\"},\"zaxis\":{\"backgroundcolor\":\"#E5ECF6\",\"gridcolor\":\"white\",\"gridwidth\":2,\"linecolor\":\"white\",\"showbackground\":true,\"ticks\":\"\",\"zerolinecolor\":\"white\"}},\"shapedefaults\":{\"line\":{\"color\":\"#2a3f5f\"}},\"ternary\":{\"aaxis\":{\"gridcolor\":\"white\",\"linecolor\":\"white\",\"ticks\":\"\"},\"baxis\":{\"gridcolor\":\"white\",\"linecolor\":\"white\",\"ticks\":\"\"},\"bgcolor\":\"#E5ECF6\",\"caxis\":{\"gridcolor\":\"white\",\"linecolor\":\"white\",\"ticks\":\"\"}},\"title\":{\"x\":0.05},\"xaxis\":{\"automargin\":true,\"gridcolor\":\"white\",\"linecolor\":\"white\",\"ticks\":\"\",\"title\":{\"standoff\":15},\"zerolinecolor\":\"white\",\"zerolinewidth\":2},\"yaxis\":{\"automargin\":true,\"gridcolor\":\"white\",\"linecolor\":\"white\",\"ticks\":\"\",\"title\":{\"standoff\":15},\"zerolinecolor\":\"white\",\"zerolinewidth\":2}}},\"title\":{\"text\":\"Hyperparameter Importances\"},\"xaxis\":{\"title\":{\"text\":\"Importance for Objective Value\"}},\"yaxis\":{\"title\":{\"text\":\"Hyperparameter\"}}},                        {\"responsive\": true}                    ).then(function(){\n",
       "                            \n",
       "var gd = document.getElementById('c36a7b1e-4a8b-4adf-aa95-9e19c138d204');\n",
       "var x = new MutationObserver(function (mutations, observer) {{\n",
       "        var display = window.getComputedStyle(gd).display;\n",
       "        if (!display || display === 'none') {{\n",
       "            console.log([gd, 'removed!']);\n",
       "            Plotly.purge(gd);\n",
       "            observer.disconnect();\n",
       "        }}\n",
       "}});\n",
       "\n",
       "// Listen for the removal of the full notebook cells\n",
       "var notebookContainer = gd.closest('#notebook-container');\n",
       "if (notebookContainer) {{\n",
       "    x.observe(notebookContainer, {childList: true});\n",
       "}}\n",
       "\n",
       "// Listen for the clearing of the current output cell\n",
       "var outputEl = gd.closest('.output');\n",
       "if (outputEl) {{\n",
       "    x.observe(outputEl, {childList: true});\n",
       "}}\n",
       "\n",
       "                        })                };                });            </script>        </div>"
      ]
     },
     "metadata": {},
     "output_type": "display_data"
    }
   ],
   "source": [
    "# 해당 하이퍼 파라미터의 중요도를 반환하여 시각화\n",
    "\n",
    "optuna.visualization.plot_param_importances(study)"
   ]
  },
  {
   "cell_type": "code",
   "execution_count": 21,
   "metadata": {},
   "outputs": [
    {
     "data": {
      "application/vnd.plotly.v1+json": {
       "config": {
        "plotlyServerURL": "https://plot.ly"
       },
       "data": [
        {
         "mode": "markers",
         "name": "Objective Value",
         "type": "scatter",
         "x": [
          0,
          1,
          2,
          3,
          4,
          5,
          6,
          7,
          8,
          9
         ],
         "y": [
          20.573240169082755,
          20.57257025194138,
          20.576950206880444,
          20.576138525246307,
          20.5773591579269,
          20.57486441178483,
          20.574615746357587,
          20.57776398695344,
          20.572279262957725,
          20.570950302656705
         ]
        },
        {
         "name": "Best Value",
         "type": "scatter",
         "x": [
          0,
          1,
          2,
          3,
          4,
          5,
          6,
          7,
          8,
          9
         ],
         "y": [
          20.573240169082755,
          20.57257025194138,
          20.57257025194138,
          20.57257025194138,
          20.57257025194138,
          20.57257025194138,
          20.57257025194138,
          20.57257025194138,
          20.572279262957725,
          20.570950302656705
         ]
        }
       ],
       "layout": {
        "template": {
         "data": {
          "bar": [
           {
            "error_x": {
             "color": "#2a3f5f"
            },
            "error_y": {
             "color": "#2a3f5f"
            },
            "marker": {
             "line": {
              "color": "#E5ECF6",
              "width": 0.5
             },
             "pattern": {
              "fillmode": "overlay",
              "size": 10,
              "solidity": 0.2
             }
            },
            "type": "bar"
           }
          ],
          "barpolar": [
           {
            "marker": {
             "line": {
              "color": "#E5ECF6",
              "width": 0.5
             },
             "pattern": {
              "fillmode": "overlay",
              "size": 10,
              "solidity": 0.2
             }
            },
            "type": "barpolar"
           }
          ],
          "carpet": [
           {
            "aaxis": {
             "endlinecolor": "#2a3f5f",
             "gridcolor": "white",
             "linecolor": "white",
             "minorgridcolor": "white",
             "startlinecolor": "#2a3f5f"
            },
            "baxis": {
             "endlinecolor": "#2a3f5f",
             "gridcolor": "white",
             "linecolor": "white",
             "minorgridcolor": "white",
             "startlinecolor": "#2a3f5f"
            },
            "type": "carpet"
           }
          ],
          "choropleth": [
           {
            "colorbar": {
             "outlinewidth": 0,
             "ticks": ""
            },
            "type": "choropleth"
           }
          ],
          "contour": [
           {
            "colorbar": {
             "outlinewidth": 0,
             "ticks": ""
            },
            "colorscale": [
             [
              0,
              "#0d0887"
             ],
             [
              0.1111111111111111,
              "#46039f"
             ],
             [
              0.2222222222222222,
              "#7201a8"
             ],
             [
              0.3333333333333333,
              "#9c179e"
             ],
             [
              0.4444444444444444,
              "#bd3786"
             ],
             [
              0.5555555555555556,
              "#d8576b"
             ],
             [
              0.6666666666666666,
              "#ed7953"
             ],
             [
              0.7777777777777778,
              "#fb9f3a"
             ],
             [
              0.8888888888888888,
              "#fdca26"
             ],
             [
              1,
              "#f0f921"
             ]
            ],
            "type": "contour"
           }
          ],
          "contourcarpet": [
           {
            "colorbar": {
             "outlinewidth": 0,
             "ticks": ""
            },
            "type": "contourcarpet"
           }
          ],
          "heatmap": [
           {
            "colorbar": {
             "outlinewidth": 0,
             "ticks": ""
            },
            "colorscale": [
             [
              0,
              "#0d0887"
             ],
             [
              0.1111111111111111,
              "#46039f"
             ],
             [
              0.2222222222222222,
              "#7201a8"
             ],
             [
              0.3333333333333333,
              "#9c179e"
             ],
             [
              0.4444444444444444,
              "#bd3786"
             ],
             [
              0.5555555555555556,
              "#d8576b"
             ],
             [
              0.6666666666666666,
              "#ed7953"
             ],
             [
              0.7777777777777778,
              "#fb9f3a"
             ],
             [
              0.8888888888888888,
              "#fdca26"
             ],
             [
              1,
              "#f0f921"
             ]
            ],
            "type": "heatmap"
           }
          ],
          "heatmapgl": [
           {
            "colorbar": {
             "outlinewidth": 0,
             "ticks": ""
            },
            "colorscale": [
             [
              0,
              "#0d0887"
             ],
             [
              0.1111111111111111,
              "#46039f"
             ],
             [
              0.2222222222222222,
              "#7201a8"
             ],
             [
              0.3333333333333333,
              "#9c179e"
             ],
             [
              0.4444444444444444,
              "#bd3786"
             ],
             [
              0.5555555555555556,
              "#d8576b"
             ],
             [
              0.6666666666666666,
              "#ed7953"
             ],
             [
              0.7777777777777778,
              "#fb9f3a"
             ],
             [
              0.8888888888888888,
              "#fdca26"
             ],
             [
              1,
              "#f0f921"
             ]
            ],
            "type": "heatmapgl"
           }
          ],
          "histogram": [
           {
            "marker": {
             "pattern": {
              "fillmode": "overlay",
              "size": 10,
              "solidity": 0.2
             }
            },
            "type": "histogram"
           }
          ],
          "histogram2d": [
           {
            "colorbar": {
             "outlinewidth": 0,
             "ticks": ""
            },
            "colorscale": [
             [
              0,
              "#0d0887"
             ],
             [
              0.1111111111111111,
              "#46039f"
             ],
             [
              0.2222222222222222,
              "#7201a8"
             ],
             [
              0.3333333333333333,
              "#9c179e"
             ],
             [
              0.4444444444444444,
              "#bd3786"
             ],
             [
              0.5555555555555556,
              "#d8576b"
             ],
             [
              0.6666666666666666,
              "#ed7953"
             ],
             [
              0.7777777777777778,
              "#fb9f3a"
             ],
             [
              0.8888888888888888,
              "#fdca26"
             ],
             [
              1,
              "#f0f921"
             ]
            ],
            "type": "histogram2d"
           }
          ],
          "histogram2dcontour": [
           {
            "colorbar": {
             "outlinewidth": 0,
             "ticks": ""
            },
            "colorscale": [
             [
              0,
              "#0d0887"
             ],
             [
              0.1111111111111111,
              "#46039f"
             ],
             [
              0.2222222222222222,
              "#7201a8"
             ],
             [
              0.3333333333333333,
              "#9c179e"
             ],
             [
              0.4444444444444444,
              "#bd3786"
             ],
             [
              0.5555555555555556,
              "#d8576b"
             ],
             [
              0.6666666666666666,
              "#ed7953"
             ],
             [
              0.7777777777777778,
              "#fb9f3a"
             ],
             [
              0.8888888888888888,
              "#fdca26"
             ],
             [
              1,
              "#f0f921"
             ]
            ],
            "type": "histogram2dcontour"
           }
          ],
          "mesh3d": [
           {
            "colorbar": {
             "outlinewidth": 0,
             "ticks": ""
            },
            "type": "mesh3d"
           }
          ],
          "parcoords": [
           {
            "line": {
             "colorbar": {
              "outlinewidth": 0,
              "ticks": ""
             }
            },
            "type": "parcoords"
           }
          ],
          "pie": [
           {
            "automargin": true,
            "type": "pie"
           }
          ],
          "scatter": [
           {
            "marker": {
             "colorbar": {
              "outlinewidth": 0,
              "ticks": ""
             }
            },
            "type": "scatter"
           }
          ],
          "scatter3d": [
           {
            "line": {
             "colorbar": {
              "outlinewidth": 0,
              "ticks": ""
             }
            },
            "marker": {
             "colorbar": {
              "outlinewidth": 0,
              "ticks": ""
             }
            },
            "type": "scatter3d"
           }
          ],
          "scattercarpet": [
           {
            "marker": {
             "colorbar": {
              "outlinewidth": 0,
              "ticks": ""
             }
            },
            "type": "scattercarpet"
           }
          ],
          "scattergeo": [
           {
            "marker": {
             "colorbar": {
              "outlinewidth": 0,
              "ticks": ""
             }
            },
            "type": "scattergeo"
           }
          ],
          "scattergl": [
           {
            "marker": {
             "colorbar": {
              "outlinewidth": 0,
              "ticks": ""
             }
            },
            "type": "scattergl"
           }
          ],
          "scattermapbox": [
           {
            "marker": {
             "colorbar": {
              "outlinewidth": 0,
              "ticks": ""
             }
            },
            "type": "scattermapbox"
           }
          ],
          "scatterpolar": [
           {
            "marker": {
             "colorbar": {
              "outlinewidth": 0,
              "ticks": ""
             }
            },
            "type": "scatterpolar"
           }
          ],
          "scatterpolargl": [
           {
            "marker": {
             "colorbar": {
              "outlinewidth": 0,
              "ticks": ""
             }
            },
            "type": "scatterpolargl"
           }
          ],
          "scatterternary": [
           {
            "marker": {
             "colorbar": {
              "outlinewidth": 0,
              "ticks": ""
             }
            },
            "type": "scatterternary"
           }
          ],
          "surface": [
           {
            "colorbar": {
             "outlinewidth": 0,
             "ticks": ""
            },
            "colorscale": [
             [
              0,
              "#0d0887"
             ],
             [
              0.1111111111111111,
              "#46039f"
             ],
             [
              0.2222222222222222,
              "#7201a8"
             ],
             [
              0.3333333333333333,
              "#9c179e"
             ],
             [
              0.4444444444444444,
              "#bd3786"
             ],
             [
              0.5555555555555556,
              "#d8576b"
             ],
             [
              0.6666666666666666,
              "#ed7953"
             ],
             [
              0.7777777777777778,
              "#fb9f3a"
             ],
             [
              0.8888888888888888,
              "#fdca26"
             ],
             [
              1,
              "#f0f921"
             ]
            ],
            "type": "surface"
           }
          ],
          "table": [
           {
            "cells": {
             "fill": {
              "color": "#EBF0F8"
             },
             "line": {
              "color": "white"
             }
            },
            "header": {
             "fill": {
              "color": "#C8D4E3"
             },
             "line": {
              "color": "white"
             }
            },
            "type": "table"
           }
          ]
         },
         "layout": {
          "annotationdefaults": {
           "arrowcolor": "#2a3f5f",
           "arrowhead": 0,
           "arrowwidth": 1
          },
          "autotypenumbers": "strict",
          "coloraxis": {
           "colorbar": {
            "outlinewidth": 0,
            "ticks": ""
           }
          },
          "colorscale": {
           "diverging": [
            [
             0,
             "#8e0152"
            ],
            [
             0.1,
             "#c51b7d"
            ],
            [
             0.2,
             "#de77ae"
            ],
            [
             0.3,
             "#f1b6da"
            ],
            [
             0.4,
             "#fde0ef"
            ],
            [
             0.5,
             "#f7f7f7"
            ],
            [
             0.6,
             "#e6f5d0"
            ],
            [
             0.7,
             "#b8e186"
            ],
            [
             0.8,
             "#7fbc41"
            ],
            [
             0.9,
             "#4d9221"
            ],
            [
             1,
             "#276419"
            ]
           ],
           "sequential": [
            [
             0,
             "#0d0887"
            ],
            [
             0.1111111111111111,
             "#46039f"
            ],
            [
             0.2222222222222222,
             "#7201a8"
            ],
            [
             0.3333333333333333,
             "#9c179e"
            ],
            [
             0.4444444444444444,
             "#bd3786"
            ],
            [
             0.5555555555555556,
             "#d8576b"
            ],
            [
             0.6666666666666666,
             "#ed7953"
            ],
            [
             0.7777777777777778,
             "#fb9f3a"
            ],
            [
             0.8888888888888888,
             "#fdca26"
            ],
            [
             1,
             "#f0f921"
            ]
           ],
           "sequentialminus": [
            [
             0,
             "#0d0887"
            ],
            [
             0.1111111111111111,
             "#46039f"
            ],
            [
             0.2222222222222222,
             "#7201a8"
            ],
            [
             0.3333333333333333,
             "#9c179e"
            ],
            [
             0.4444444444444444,
             "#bd3786"
            ],
            [
             0.5555555555555556,
             "#d8576b"
            ],
            [
             0.6666666666666666,
             "#ed7953"
            ],
            [
             0.7777777777777778,
             "#fb9f3a"
            ],
            [
             0.8888888888888888,
             "#fdca26"
            ],
            [
             1,
             "#f0f921"
            ]
           ]
          },
          "colorway": [
           "#636efa",
           "#EF553B",
           "#00cc96",
           "#ab63fa",
           "#FFA15A",
           "#19d3f3",
           "#FF6692",
           "#B6E880",
           "#FF97FF",
           "#FECB52"
          ],
          "font": {
           "color": "#2a3f5f"
          },
          "geo": {
           "bgcolor": "white",
           "lakecolor": "white",
           "landcolor": "#E5ECF6",
           "showlakes": true,
           "showland": true,
           "subunitcolor": "white"
          },
          "hoverlabel": {
           "align": "left"
          },
          "hovermode": "closest",
          "mapbox": {
           "style": "light"
          },
          "paper_bgcolor": "white",
          "plot_bgcolor": "#E5ECF6",
          "polar": {
           "angularaxis": {
            "gridcolor": "white",
            "linecolor": "white",
            "ticks": ""
           },
           "bgcolor": "#E5ECF6",
           "radialaxis": {
            "gridcolor": "white",
            "linecolor": "white",
            "ticks": ""
           }
          },
          "scene": {
           "xaxis": {
            "backgroundcolor": "#E5ECF6",
            "gridcolor": "white",
            "gridwidth": 2,
            "linecolor": "white",
            "showbackground": true,
            "ticks": "",
            "zerolinecolor": "white"
           },
           "yaxis": {
            "backgroundcolor": "#E5ECF6",
            "gridcolor": "white",
            "gridwidth": 2,
            "linecolor": "white",
            "showbackground": true,
            "ticks": "",
            "zerolinecolor": "white"
           },
           "zaxis": {
            "backgroundcolor": "#E5ECF6",
            "gridcolor": "white",
            "gridwidth": 2,
            "linecolor": "white",
            "showbackground": true,
            "ticks": "",
            "zerolinecolor": "white"
           }
          },
          "shapedefaults": {
           "line": {
            "color": "#2a3f5f"
           }
          },
          "ternary": {
           "aaxis": {
            "gridcolor": "white",
            "linecolor": "white",
            "ticks": ""
           },
           "baxis": {
            "gridcolor": "white",
            "linecolor": "white",
            "ticks": ""
           },
           "bgcolor": "#E5ECF6",
           "caxis": {
            "gridcolor": "white",
            "linecolor": "white",
            "ticks": ""
           }
          },
          "title": {
           "x": 0.05
          },
          "xaxis": {
           "automargin": true,
           "gridcolor": "white",
           "linecolor": "white",
           "ticks": "",
           "title": {
            "standoff": 15
           },
           "zerolinecolor": "white",
           "zerolinewidth": 2
          },
          "yaxis": {
           "automargin": true,
           "gridcolor": "white",
           "linecolor": "white",
           "ticks": "",
           "title": {
            "standoff": 15
           },
           "zerolinecolor": "white",
           "zerolinewidth": 2
          }
         }
        },
        "title": {
         "text": "Optimization History Plot"
        },
        "xaxis": {
         "title": {
          "text": "#Trials"
         }
        },
        "yaxis": {
         "title": {
          "text": "Objective Value"
         }
        }
       }
      },
      "text/html": [
       "<div>                            <div id=\"151e77ce-2130-4da4-bbb3-3e9f4e4ff059\" class=\"plotly-graph-div\" style=\"height:525px; width:100%;\"></div>            <script type=\"text/javascript\">                require([\"plotly\"], function(Plotly) {                    window.PLOTLYENV=window.PLOTLYENV || {};                                    if (document.getElementById(\"151e77ce-2130-4da4-bbb3-3e9f4e4ff059\")) {                    Plotly.newPlot(                        \"151e77ce-2130-4da4-bbb3-3e9f4e4ff059\",                        [{\"mode\":\"markers\",\"name\":\"Objective Value\",\"type\":\"scatter\",\"x\":[0,1,2,3,4,5,6,7,8,9],\"y\":[20.573240169082755,20.57257025194138,20.576950206880444,20.576138525246307,20.5773591579269,20.57486441178483,20.574615746357587,20.57776398695344,20.572279262957725,20.570950302656705]},{\"name\":\"Best Value\",\"type\":\"scatter\",\"x\":[0,1,2,3,4,5,6,7,8,9],\"y\":[20.573240169082755,20.57257025194138,20.57257025194138,20.57257025194138,20.57257025194138,20.57257025194138,20.57257025194138,20.57257025194138,20.572279262957725,20.570950302656705]}],                        {\"template\":{\"data\":{\"bar\":[{\"error_x\":{\"color\":\"#2a3f5f\"},\"error_y\":{\"color\":\"#2a3f5f\"},\"marker\":{\"line\":{\"color\":\"#E5ECF6\",\"width\":0.5},\"pattern\":{\"fillmode\":\"overlay\",\"size\":10,\"solidity\":0.2}},\"type\":\"bar\"}],\"barpolar\":[{\"marker\":{\"line\":{\"color\":\"#E5ECF6\",\"width\":0.5},\"pattern\":{\"fillmode\":\"overlay\",\"size\":10,\"solidity\":0.2}},\"type\":\"barpolar\"}],\"carpet\":[{\"aaxis\":{\"endlinecolor\":\"#2a3f5f\",\"gridcolor\":\"white\",\"linecolor\":\"white\",\"minorgridcolor\":\"white\",\"startlinecolor\":\"#2a3f5f\"},\"baxis\":{\"endlinecolor\":\"#2a3f5f\",\"gridcolor\":\"white\",\"linecolor\":\"white\",\"minorgridcolor\":\"white\",\"startlinecolor\":\"#2a3f5f\"},\"type\":\"carpet\"}],\"choropleth\":[{\"colorbar\":{\"outlinewidth\":0,\"ticks\":\"\"},\"type\":\"choropleth\"}],\"contour\":[{\"colorbar\":{\"outlinewidth\":0,\"ticks\":\"\"},\"colorscale\":[[0.0,\"#0d0887\"],[0.1111111111111111,\"#46039f\"],[0.2222222222222222,\"#7201a8\"],[0.3333333333333333,\"#9c179e\"],[0.4444444444444444,\"#bd3786\"],[0.5555555555555556,\"#d8576b\"],[0.6666666666666666,\"#ed7953\"],[0.7777777777777778,\"#fb9f3a\"],[0.8888888888888888,\"#fdca26\"],[1.0,\"#f0f921\"]],\"type\":\"contour\"}],\"contourcarpet\":[{\"colorbar\":{\"outlinewidth\":0,\"ticks\":\"\"},\"type\":\"contourcarpet\"}],\"heatmap\":[{\"colorbar\":{\"outlinewidth\":0,\"ticks\":\"\"},\"colorscale\":[[0.0,\"#0d0887\"],[0.1111111111111111,\"#46039f\"],[0.2222222222222222,\"#7201a8\"],[0.3333333333333333,\"#9c179e\"],[0.4444444444444444,\"#bd3786\"],[0.5555555555555556,\"#d8576b\"],[0.6666666666666666,\"#ed7953\"],[0.7777777777777778,\"#fb9f3a\"],[0.8888888888888888,\"#fdca26\"],[1.0,\"#f0f921\"]],\"type\":\"heatmap\"}],\"heatmapgl\":[{\"colorbar\":{\"outlinewidth\":0,\"ticks\":\"\"},\"colorscale\":[[0.0,\"#0d0887\"],[0.1111111111111111,\"#46039f\"],[0.2222222222222222,\"#7201a8\"],[0.3333333333333333,\"#9c179e\"],[0.4444444444444444,\"#bd3786\"],[0.5555555555555556,\"#d8576b\"],[0.6666666666666666,\"#ed7953\"],[0.7777777777777778,\"#fb9f3a\"],[0.8888888888888888,\"#fdca26\"],[1.0,\"#f0f921\"]],\"type\":\"heatmapgl\"}],\"histogram\":[{\"marker\":{\"pattern\":{\"fillmode\":\"overlay\",\"size\":10,\"solidity\":0.2}},\"type\":\"histogram\"}],\"histogram2d\":[{\"colorbar\":{\"outlinewidth\":0,\"ticks\":\"\"},\"colorscale\":[[0.0,\"#0d0887\"],[0.1111111111111111,\"#46039f\"],[0.2222222222222222,\"#7201a8\"],[0.3333333333333333,\"#9c179e\"],[0.4444444444444444,\"#bd3786\"],[0.5555555555555556,\"#d8576b\"],[0.6666666666666666,\"#ed7953\"],[0.7777777777777778,\"#fb9f3a\"],[0.8888888888888888,\"#fdca26\"],[1.0,\"#f0f921\"]],\"type\":\"histogram2d\"}],\"histogram2dcontour\":[{\"colorbar\":{\"outlinewidth\":0,\"ticks\":\"\"},\"colorscale\":[[0.0,\"#0d0887\"],[0.1111111111111111,\"#46039f\"],[0.2222222222222222,\"#7201a8\"],[0.3333333333333333,\"#9c179e\"],[0.4444444444444444,\"#bd3786\"],[0.5555555555555556,\"#d8576b\"],[0.6666666666666666,\"#ed7953\"],[0.7777777777777778,\"#fb9f3a\"],[0.8888888888888888,\"#fdca26\"],[1.0,\"#f0f921\"]],\"type\":\"histogram2dcontour\"}],\"mesh3d\":[{\"colorbar\":{\"outlinewidth\":0,\"ticks\":\"\"},\"type\":\"mesh3d\"}],\"parcoords\":[{\"line\":{\"colorbar\":{\"outlinewidth\":0,\"ticks\":\"\"}},\"type\":\"parcoords\"}],\"pie\":[{\"automargin\":true,\"type\":\"pie\"}],\"scatter\":[{\"marker\":{\"colorbar\":{\"outlinewidth\":0,\"ticks\":\"\"}},\"type\":\"scatter\"}],\"scatter3d\":[{\"line\":{\"colorbar\":{\"outlinewidth\":0,\"ticks\":\"\"}},\"marker\":{\"colorbar\":{\"outlinewidth\":0,\"ticks\":\"\"}},\"type\":\"scatter3d\"}],\"scattercarpet\":[{\"marker\":{\"colorbar\":{\"outlinewidth\":0,\"ticks\":\"\"}},\"type\":\"scattercarpet\"}],\"scattergeo\":[{\"marker\":{\"colorbar\":{\"outlinewidth\":0,\"ticks\":\"\"}},\"type\":\"scattergeo\"}],\"scattergl\":[{\"marker\":{\"colorbar\":{\"outlinewidth\":0,\"ticks\":\"\"}},\"type\":\"scattergl\"}],\"scattermapbox\":[{\"marker\":{\"colorbar\":{\"outlinewidth\":0,\"ticks\":\"\"}},\"type\":\"scattermapbox\"}],\"scatterpolar\":[{\"marker\":{\"colorbar\":{\"outlinewidth\":0,\"ticks\":\"\"}},\"type\":\"scatterpolar\"}],\"scatterpolargl\":[{\"marker\":{\"colorbar\":{\"outlinewidth\":0,\"ticks\":\"\"}},\"type\":\"scatterpolargl\"}],\"scatterternary\":[{\"marker\":{\"colorbar\":{\"outlinewidth\":0,\"ticks\":\"\"}},\"type\":\"scatterternary\"}],\"surface\":[{\"colorbar\":{\"outlinewidth\":0,\"ticks\":\"\"},\"colorscale\":[[0.0,\"#0d0887\"],[0.1111111111111111,\"#46039f\"],[0.2222222222222222,\"#7201a8\"],[0.3333333333333333,\"#9c179e\"],[0.4444444444444444,\"#bd3786\"],[0.5555555555555556,\"#d8576b\"],[0.6666666666666666,\"#ed7953\"],[0.7777777777777778,\"#fb9f3a\"],[0.8888888888888888,\"#fdca26\"],[1.0,\"#f0f921\"]],\"type\":\"surface\"}],\"table\":[{\"cells\":{\"fill\":{\"color\":\"#EBF0F8\"},\"line\":{\"color\":\"white\"}},\"header\":{\"fill\":{\"color\":\"#C8D4E3\"},\"line\":{\"color\":\"white\"}},\"type\":\"table\"}]},\"layout\":{\"annotationdefaults\":{\"arrowcolor\":\"#2a3f5f\",\"arrowhead\":0,\"arrowwidth\":1},\"autotypenumbers\":\"strict\",\"coloraxis\":{\"colorbar\":{\"outlinewidth\":0,\"ticks\":\"\"}},\"colorscale\":{\"diverging\":[[0,\"#8e0152\"],[0.1,\"#c51b7d\"],[0.2,\"#de77ae\"],[0.3,\"#f1b6da\"],[0.4,\"#fde0ef\"],[0.5,\"#f7f7f7\"],[0.6,\"#e6f5d0\"],[0.7,\"#b8e186\"],[0.8,\"#7fbc41\"],[0.9,\"#4d9221\"],[1,\"#276419\"]],\"sequential\":[[0.0,\"#0d0887\"],[0.1111111111111111,\"#46039f\"],[0.2222222222222222,\"#7201a8\"],[0.3333333333333333,\"#9c179e\"],[0.4444444444444444,\"#bd3786\"],[0.5555555555555556,\"#d8576b\"],[0.6666666666666666,\"#ed7953\"],[0.7777777777777778,\"#fb9f3a\"],[0.8888888888888888,\"#fdca26\"],[1.0,\"#f0f921\"]],\"sequentialminus\":[[0.0,\"#0d0887\"],[0.1111111111111111,\"#46039f\"],[0.2222222222222222,\"#7201a8\"],[0.3333333333333333,\"#9c179e\"],[0.4444444444444444,\"#bd3786\"],[0.5555555555555556,\"#d8576b\"],[0.6666666666666666,\"#ed7953\"],[0.7777777777777778,\"#fb9f3a\"],[0.8888888888888888,\"#fdca26\"],[1.0,\"#f0f921\"]]},\"colorway\":[\"#636efa\",\"#EF553B\",\"#00cc96\",\"#ab63fa\",\"#FFA15A\",\"#19d3f3\",\"#FF6692\",\"#B6E880\",\"#FF97FF\",\"#FECB52\"],\"font\":{\"color\":\"#2a3f5f\"},\"geo\":{\"bgcolor\":\"white\",\"lakecolor\":\"white\",\"landcolor\":\"#E5ECF6\",\"showlakes\":true,\"showland\":true,\"subunitcolor\":\"white\"},\"hoverlabel\":{\"align\":\"left\"},\"hovermode\":\"closest\",\"mapbox\":{\"style\":\"light\"},\"paper_bgcolor\":\"white\",\"plot_bgcolor\":\"#E5ECF6\",\"polar\":{\"angularaxis\":{\"gridcolor\":\"white\",\"linecolor\":\"white\",\"ticks\":\"\"},\"bgcolor\":\"#E5ECF6\",\"radialaxis\":{\"gridcolor\":\"white\",\"linecolor\":\"white\",\"ticks\":\"\"}},\"scene\":{\"xaxis\":{\"backgroundcolor\":\"#E5ECF6\",\"gridcolor\":\"white\",\"gridwidth\":2,\"linecolor\":\"white\",\"showbackground\":true,\"ticks\":\"\",\"zerolinecolor\":\"white\"},\"yaxis\":{\"backgroundcolor\":\"#E5ECF6\",\"gridcolor\":\"white\",\"gridwidth\":2,\"linecolor\":\"white\",\"showbackground\":true,\"ticks\":\"\",\"zerolinecolor\":\"white\"},\"zaxis\":{\"backgroundcolor\":\"#E5ECF6\",\"gridcolor\":\"white\",\"gridwidth\":2,\"linecolor\":\"white\",\"showbackground\":true,\"ticks\":\"\",\"zerolinecolor\":\"white\"}},\"shapedefaults\":{\"line\":{\"color\":\"#2a3f5f\"}},\"ternary\":{\"aaxis\":{\"gridcolor\":\"white\",\"linecolor\":\"white\",\"ticks\":\"\"},\"baxis\":{\"gridcolor\":\"white\",\"linecolor\":\"white\",\"ticks\":\"\"},\"bgcolor\":\"#E5ECF6\",\"caxis\":{\"gridcolor\":\"white\",\"linecolor\":\"white\",\"ticks\":\"\"}},\"title\":{\"x\":0.05},\"xaxis\":{\"automargin\":true,\"gridcolor\":\"white\",\"linecolor\":\"white\",\"ticks\":\"\",\"title\":{\"standoff\":15},\"zerolinecolor\":\"white\",\"zerolinewidth\":2},\"yaxis\":{\"automargin\":true,\"gridcolor\":\"white\",\"linecolor\":\"white\",\"ticks\":\"\",\"title\":{\"standoff\":15},\"zerolinecolor\":\"white\",\"zerolinewidth\":2}}},\"title\":{\"text\":\"Optimization History Plot\"},\"xaxis\":{\"title\":{\"text\":\"#Trials\"}},\"yaxis\":{\"title\":{\"text\":\"Objective Value\"}}},                        {\"responsive\": true}                    ).then(function(){\n",
       "                            \n",
       "var gd = document.getElementById('151e77ce-2130-4da4-bbb3-3e9f4e4ff059');\n",
       "var x = new MutationObserver(function (mutations, observer) {{\n",
       "        var display = window.getComputedStyle(gd).display;\n",
       "        if (!display || display === 'none') {{\n",
       "            console.log([gd, 'removed!']);\n",
       "            Plotly.purge(gd);\n",
       "            observer.disconnect();\n",
       "        }}\n",
       "}});\n",
       "\n",
       "// Listen for the removal of the full notebook cells\n",
       "var notebookContainer = gd.closest('#notebook-container');\n",
       "if (notebookContainer) {{\n",
       "    x.observe(notebookContainer, {childList: true});\n",
       "}}\n",
       "\n",
       "// Listen for the clearing of the current output cell\n",
       "var outputEl = gd.closest('.output');\n",
       "if (outputEl) {{\n",
       "    x.observe(outputEl, {childList: true});\n",
       "}}\n",
       "\n",
       "                        })                };                });            </script>        </div>"
      ]
     },
     "metadata": {},
     "output_type": "display_data"
    }
   ],
   "source": [
    "optuna.visualization.plot_optimization_history(study)"
   ]
  },
  {
   "cell_type": "code",
   "execution_count": 22,
   "metadata": {
    "execution": {
     "iopub.execute_input": "2021-09-28T10:20:42.988562Z",
     "iopub.status.busy": "2021-09-28T10:20:42.987826Z",
     "iopub.status.idle": "2021-09-28T10:20:43.528212Z",
     "shell.execute_reply": "2021-09-28T10:20:43.529453Z",
     "shell.execute_reply.started": "2021-09-28T10:14:16.932726Z"
    },
    "papermill": {
     "duration": 0.868779,
     "end_time": "2021-09-28T10:20:43.529681",
     "exception": false,
     "start_time": "2021-09-28T10:20:42.660902",
     "status": "completed"
    },
    "tags": []
   },
   "outputs": [
    {
     "name": "stdout",
     "output_type": "stream",
     "text": [
      "Training until validation scores don't improve for 100 rounds\n",
      "[100]\ttraining's rmse: 20.4994\tvalid_1's rmse: 20.6034\n",
      "Early stopping, best iteration is:\n",
      "[9]\ttraining's rmse: 20.5755\tvalid_1's rmse: 20.5846\n",
      "Training until validation scores don't improve for 100 rounds\n",
      "[100]\ttraining's rmse: 20.4955\tvalid_1's rmse: 20.6698\n",
      "Early stopping, best iteration is:\n",
      "[28]\ttraining's rmse: 20.5391\tvalid_1's rmse: 20.6459\n",
      "Training until validation scores don't improve for 100 rounds\n",
      "[100]\ttraining's rmse: 20.505\tvalid_1's rmse: 20.5394\n",
      "[200]\ttraining's rmse: 20.4805\tvalid_1's rmse: 20.5295\n",
      "Early stopping, best iteration is:\n",
      "[159]\ttraining's rmse: 20.4851\tvalid_1's rmse: 20.5259\n",
      "Training until validation scores don't improve for 100 rounds\n",
      "[100]\ttraining's rmse: 20.5458\tvalid_1's rmse: 20.5126\n",
      "[200]\ttraining's rmse: 20.5107\tvalid_1's rmse: 20.52\n",
      "Early stopping, best iteration is:\n",
      "[101]\ttraining's rmse: 20.5455\tvalid_1's rmse: 20.5125\n",
      "Training until validation scores don't improve for 100 rounds\n",
      "[100]\ttraining's rmse: 20.4888\tvalid_1's rmse: 20.5979\n",
      "Early stopping, best iteration is:\n",
      "[44]\ttraining's rmse: 20.5204\tvalid_1's rmse: 20.5856\n"
     ]
    }
   ],
   "source": [
    "models = []\n",
    "\n",
    "for fold in range(N_FOLDS):\n",
    "    train = trn[trn[\"kfold\"] != fold]\n",
    "    val = trn[trn[\"kfold\"] == fold]\n",
    "\n",
    "    x_train, y_train = train[features], train[target]\n",
    "    x_val, y_val = val[features], val[target]\n",
    "\n",
    "    lgb_train = lgb.Dataset(x_train, y_train)\n",
    "    lgb_val = lgb.Dataset(x_val, y_val)\n",
    "\n",
    "    model = lgb.train(\n",
    "        params,\n",
    "        lgb_train,\n",
    "        num_boost_round=5000,\n",
    "        valid_sets=(lgb_train, lgb_val),\n",
    "        early_stopping_rounds=100,\n",
    "        verbose_eval=100\n",
    "    )\n",
    "    models.append(model)"
   ]
  },
  {
   "cell_type": "markdown",
   "metadata": {},
   "source": [
    "<br><br>\n",
    "\n",
    "## 끝!"
   ]
  },
  {
   "cell_type": "markdown",
   "metadata": {},
   "source": [
    "------------------------------------\n",
    "<br><br>\n",
    "\n",
    "이후의 과정은 생략함.\n",
    "\n",
    "5개의 모델이 예측한 값의 평균으로 예측한 것에 불과함."
   ]
  },
  {
   "cell_type": "code",
   "execution_count": null,
   "metadata": {
    "execution": {
     "iopub.execute_input": "2021-09-28T10:20:44.193004Z",
     "iopub.status.busy": "2021-09-28T10:20:44.192255Z",
     "iopub.status.idle": "2021-09-28T10:20:44.214032Z",
     "shell.execute_reply": "2021-09-28T10:20:44.214574Z",
     "shell.execute_reply.started": "2021-09-28T10:14:26.101631Z"
    },
    "papermill": {
     "duration": 0.353013,
     "end_time": "2021-09-28T10:20:44.214763",
     "exception": false,
     "start_time": "2021-09-28T10:20:43.861750",
     "status": "completed"
    },
    "tags": []
   },
   "outputs": [],
   "source": [
    "# test_df = pd.read_csv(\"../input/petfinder-pawpularity-score/test.csv\")\n",
    "# test_df.head()"
   ]
  },
  {
   "cell_type": "code",
   "execution_count": null,
   "metadata": {
    "execution": {
     "iopub.execute_input": "2021-09-28T10:20:44.907586Z",
     "iopub.status.busy": "2021-09-28T10:20:44.905864Z",
     "iopub.status.idle": "2021-09-28T10:20:44.922909Z",
     "shell.execute_reply": "2021-09-28T10:20:44.923675Z",
     "shell.execute_reply.started": "2021-09-28T10:14:26.826580Z"
    },
    "papermill": {
     "duration": 0.378527,
     "end_time": "2021-09-28T10:20:44.923878",
     "exception": false,
     "start_time": "2021-09-28T10:20:44.545351",
     "status": "completed"
    },
    "tags": []
   },
   "outputs": [],
   "source": [
    "# sample_sub_df = pd.read_csv(\"../input/petfinder-pawpularity-score/sample_submission.csv\")\n",
    "# sample_sub_df.head()"
   ]
  },
  {
   "cell_type": "code",
   "execution_count": null,
   "metadata": {
    "execution": {
     "iopub.execute_input": "2021-09-28T10:20:45.648242Z",
     "iopub.status.busy": "2021-09-28T10:20:45.647565Z",
     "iopub.status.idle": "2021-09-28T10:20:45.673412Z",
     "shell.execute_reply": "2021-09-28T10:20:45.674010Z",
     "shell.execute_reply.started": "2021-09-28T10:14:27.192339Z"
    },
    "papermill": {
     "duration": 0.361376,
     "end_time": "2021-09-28T10:20:45.674226",
     "exception": false,
     "start_time": "2021-09-28T10:20:45.312850",
     "status": "completed"
    },
    "tags": []
   },
   "outputs": [],
   "source": [
    "# preds = sum([model.predict(test_df[features]) for model in models])/N_FOLDS\n",
    "# sample_sub_df[\"Pawpularity\"] = preds\n",
    "# sample_sub_df.to_csv('submission.csv', index=False)"
   ]
  }
 ],
 "metadata": {
  "kernelspec": {
   "display_name": "Python 3",
   "language": "python",
   "name": "python3"
  },
  "language_info": {
   "codemirror_mode": {
    "name": "ipython",
    "version": 3
   },
   "file_extension": ".py",
   "mimetype": "text/x-python",
   "name": "python",
   "nbconvert_exporter": "python",
   "pygments_lexer": "ipython3",
   "version": "3.8.5"
  },
  "papermill": {
   "default_parameters": {},
   "duration": 341.968678,
   "end_time": "2021-09-28T10:20:47.290882",
   "environment_variables": {},
   "exception": null,
   "input_path": "__notebook__.ipynb",
   "output_path": "__notebook__.ipynb",
   "parameters": {},
   "start_time": "2021-09-28T10:15:05.322204",
   "version": "2.3.3"
  },
  "toc": {
   "base_numbering": 1,
   "nav_menu": {},
   "number_sections": true,
   "sideBar": true,
   "skip_h1_title": false,
   "title_cell": "Table of Contents",
   "title_sidebar": "Contents",
   "toc_cell": false,
   "toc_position": {},
   "toc_section_display": true,
   "toc_window_display": true
  }
 },
 "nbformat": 4,
 "nbformat_minor": 5
}
